{
 "cells": [
  {
   "cell_type": "markdown",
   "metadata": {
    "id": "dGd_HQYv8Wdh"
   },
   "source": [
    "# FINANZAS CORPORATIVAS\n",
    "\n",
    "\n",
    "\n",
    "*   Jisbeth Jaquelin Díaz Vázquez 1857602\n",
    "*   Julio César Ramiro Mayorga 1842201\n",
    "\n",
    "\n",
    "\n"
   ]
  },
  {
   "cell_type": "markdown",
   "metadata": {
    "id": "wj3h9iJX9D3P"
   },
   "source": [
    "# Frontera Eficiente de Markowitz\n",
    "Es aquella que dado un mismo nivel de volatilidad busca maximizar el retorno esperado\n",
    "\n"
   ]
  },
  {
   "cell_type": "code",
   "execution_count": 1,
   "metadata": {
    "id": "zsGwFF_Qph-y"
   },
   "outputs": [],
   "source": [
    "import numpy as np\n",
    "import pandas as pd\n",
    "pd.core.common.is_list_like = pd.api.types.is_list_like\n",
    "import yfinance as yf\n",
    "import matplotlib.pyplot as plt\n",
    "%matplotlib inline"
   ]
  },
  {
   "cell_type": "code",
   "execution_count": 8,
   "metadata": {
    "colab": {
     "base_uri": "https://localhost:8080/"
    },
    "id": "lFa0AnPQ_DQJ",
    "outputId": "0a413a12-a22c-4334-e699-fe719104c043"
   },
   "outputs": [],
   "source": [
    "AMX=yf.Ticker(\"AMXL.MX\").history(period=\"2y\")\n",
    "ASUR=yf.Ticker(\"ASURB.MX\").history(period=\"2y\")\n",
    "BIMBO=yf.Ticker(\"BIMBOA.MX\").history(period=\"2y\")\n",
    "CEMEX=yf.Ticker(\"CEMEXCPO.MX\").history(period=\"2y\")\n",
    "FEMSA=yf.Ticker(\"FEMSAUBD.MX\").history(period=\"2y\")\n",
    "GAP=yf.Ticker(\"GAPB.MX\").history(period=\"2y\")\n",
    "GFNORTE=yf.Ticker(\"GFNORTEO.MX\").history(period=\"2y\")\n",
    "GMEXICO=yf.Ticker(\"GMEXICOB.MX\").history(period=\"2y\")\n",
    "TLEVISA=yf.Ticker(\"TLEVISACPO.MX\").history(period=\"2y\")\n",
    "WALMEX=yf.Ticker(\"WALMEX.MX\").history(period=\"2y\")"
   ]
  },
  {
   "cell_type": "code",
   "execution_count": 113,
   "metadata": {},
   "outputs": [
    {
     "data": {
      "text/plain": [
       "0.325795"
      ]
     },
     "execution_count": 113,
     "metadata": {},
     "output_type": "execute_result"
    }
   ],
   "source": [
    "fAMX=yf.Ticker(\"AMXL.MX\").info\n",
    "fASUR=yf.Ticker(\"ASURB.MX\").info\n",
    "fBIMBO=yf.Ticker(\"BIMBOA.MX\").info\n",
    "fCEMEX=yf.Ticker(\"CEMEXCPO.MX\").info\n",
    "fFEMSA=yf.Ticker(\"FEMSAUBD.MX\").info\n",
    "fGAP=yf.Ticker(\"GAPB.MX\").info\n",
    "fGFNORTE=yf.Ticker(\"GFNORTEO.MX\").info\n",
    "fGMEXICO=yf.Ticker(\"GMEXICOB.MX\").info\n",
    "fTLEVISA=yf.Ticker(\"TLEVISACPO.MX\").info\n",
    "fWALMEX=yf.Ticker(\"WALMEX.MX\").info\n",
    "fAMX[\"beta\"]"
   ]
  },
  {
   "cell_type": "code",
   "execution_count": 9,
   "metadata": {},
   "outputs": [
    {
     "data": {
      "text/html": [
       "<div>\n",
       "<style scoped>\n",
       "    .dataframe tbody tr th:only-of-type {\n",
       "        vertical-align: middle;\n",
       "    }\n",
       "\n",
       "    .dataframe tbody tr th {\n",
       "        vertical-align: top;\n",
       "    }\n",
       "\n",
       "    .dataframe thead th {\n",
       "        text-align: right;\n",
       "    }\n",
       "</style>\n",
       "<table border=\"1\" class=\"dataframe\">\n",
       "  <thead>\n",
       "    <tr style=\"text-align: right;\">\n",
       "      <th></th>\n",
       "      <th>Open</th>\n",
       "      <th>High</th>\n",
       "      <th>Low</th>\n",
       "      <th>Close</th>\n",
       "      <th>Volume</th>\n",
       "      <th>Dividends</th>\n",
       "      <th>Stock Splits</th>\n",
       "    </tr>\n",
       "    <tr>\n",
       "      <th>Date</th>\n",
       "      <th></th>\n",
       "      <th></th>\n",
       "      <th></th>\n",
       "      <th></th>\n",
       "      <th></th>\n",
       "      <th></th>\n",
       "      <th></th>\n",
       "    </tr>\n",
       "  </thead>\n",
       "  <tbody>\n",
       "    <tr>\n",
       "      <th>2020-07-08</th>\n",
       "      <td>13.893394</td>\n",
       "      <td>13.893394</td>\n",
       "      <td>13.546996</td>\n",
       "      <td>13.631255</td>\n",
       "      <td>48161499</td>\n",
       "      <td>0.0</td>\n",
       "      <td>0</td>\n",
       "    </tr>\n",
       "    <tr>\n",
       "      <th>2020-07-09</th>\n",
       "      <td>13.659341</td>\n",
       "      <td>13.659341</td>\n",
       "      <td>13.125700</td>\n",
       "      <td>13.144423</td>\n",
       "      <td>35220083</td>\n",
       "      <td>0.0</td>\n",
       "      <td>0</td>\n",
       "    </tr>\n",
       "    <tr>\n",
       "      <th>2020-07-10</th>\n",
       "      <td>13.153787</td>\n",
       "      <td>13.238046</td>\n",
       "      <td>13.013354</td>\n",
       "      <td>13.135062</td>\n",
       "      <td>20180187</td>\n",
       "      <td>0.0</td>\n",
       "      <td>0</td>\n",
       "    </tr>\n",
       "    <tr>\n",
       "      <th>2020-07-13</th>\n",
       "      <td>13.228683</td>\n",
       "      <td>13.415925</td>\n",
       "      <td>13.097613</td>\n",
       "      <td>13.144423</td>\n",
       "      <td>35934688</td>\n",
       "      <td>0.0</td>\n",
       "      <td>0</td>\n",
       "    </tr>\n",
       "    <tr>\n",
       "      <th>2020-07-14</th>\n",
       "      <td>13.144424</td>\n",
       "      <td>13.303580</td>\n",
       "      <td>12.826112</td>\n",
       "      <td>13.172510</td>\n",
       "      <td>57393258</td>\n",
       "      <td>0.0</td>\n",
       "      <td>0</td>\n",
       "    </tr>\n",
       "  </tbody>\n",
       "</table>\n",
       "</div>"
      ],
      "text/plain": [
       "                 Open       High        Low      Close    Volume  Dividends  \\\n",
       "Date                                                                          \n",
       "2020-07-08  13.893394  13.893394  13.546996  13.631255  48161499        0.0   \n",
       "2020-07-09  13.659341  13.659341  13.125700  13.144423  35220083        0.0   \n",
       "2020-07-10  13.153787  13.238046  13.013354  13.135062  20180187        0.0   \n",
       "2020-07-13  13.228683  13.415925  13.097613  13.144423  35934688        0.0   \n",
       "2020-07-14  13.144424  13.303580  12.826112  13.172510  57393258        0.0   \n",
       "\n",
       "            Stock Splits  \n",
       "Date                      \n",
       "2020-07-08             0  \n",
       "2020-07-09             0  \n",
       "2020-07-10             0  \n",
       "2020-07-13             0  \n",
       "2020-07-14             0  "
      ]
     },
     "execution_count": 9,
     "metadata": {},
     "output_type": "execute_result"
    }
   ],
   "source": [
    "AMX.head()"
   ]
  },
  {
   "cell_type": "code",
   "execution_count": 26,
   "metadata": {},
   "outputs": [],
   "source": [
    "val=[\"AMX\",\"ASUR\",\"BIMBO\",\"CEMEX\",\"FEMSA\",\"GAP\",\"GFNORTE\",\"GMEXICO\",\"TLEVISA\",\"WALMEX\"]\n",
    "pf_dat=pd.DataFrame({\"AMX\": AMX[\"Close\"],\"ASUR\": ASUR[\"Close\"], \"BIMBO\": BIMBO[\"Close\"],\"CEMEX\": CEMEX[\"Close\"], \n",
    "                     \"FEMSA\": FEMSA[\"Close\"], \"GAP\": GAP[\"Close\"], \"GFNORTE\": GFNORTE[\"Close\"], \"GMEXICO\": GMEXICO[\"Close\"],\n",
    "                    \"TLEVISA\": TLEVISA[\"Close\"], \"WALMEX\": WALMEX[\"Close\"]})"
   ]
  },
  {
   "cell_type": "code",
   "execution_count": 18,
   "metadata": {
    "colab": {
     "base_uri": "https://localhost:8080/",
     "height": 238
    },
    "id": "SPuXOgp2tKsM",
    "outputId": "8d8f43ba-52a1-4b90-d9ca-f977ffef2b3e"
   },
   "outputs": [
    {
     "data": {
      "text/html": [
       "<div>\n",
       "<style scoped>\n",
       "    .dataframe tbody tr th:only-of-type {\n",
       "        vertical-align: middle;\n",
       "    }\n",
       "\n",
       "    .dataframe tbody tr th {\n",
       "        vertical-align: top;\n",
       "    }\n",
       "\n",
       "    .dataframe thead th {\n",
       "        text-align: right;\n",
       "    }\n",
       "</style>\n",
       "<table border=\"1\" class=\"dataframe\">\n",
       "  <thead>\n",
       "    <tr style=\"text-align: right;\">\n",
       "      <th></th>\n",
       "      <th>AMX</th>\n",
       "      <th>ASUR</th>\n",
       "      <th>BIMBO</th>\n",
       "      <th>CEMEX</th>\n",
       "      <th>FEMSA</th>\n",
       "      <th>GAP</th>\n",
       "      <th>GFNORTE</th>\n",
       "      <th>GMEXICO</th>\n",
       "      <th>TLEVISA</th>\n",
       "      <th>WALMEX</th>\n",
       "    </tr>\n",
       "    <tr>\n",
       "      <th>Date</th>\n",
       "      <th></th>\n",
       "      <th></th>\n",
       "      <th></th>\n",
       "      <th></th>\n",
       "      <th></th>\n",
       "      <th></th>\n",
       "      <th></th>\n",
       "      <th></th>\n",
       "      <th></th>\n",
       "      <th></th>\n",
       "    </tr>\n",
       "  </thead>\n",
       "  <tbody>\n",
       "    <tr>\n",
       "      <th>2020-07-08</th>\n",
       "      <td>13.631255</td>\n",
       "      <td>235.162949</td>\n",
       "      <td>37.073799</td>\n",
       "      <td>6.29</td>\n",
       "      <td>128.989700</td>\n",
       "      <td>145.377655</td>\n",
       "      <td>74.518715</td>\n",
       "      <td>48.784298</td>\n",
       "      <td>24.930906</td>\n",
       "      <td>53.758259</td>\n",
       "    </tr>\n",
       "    <tr>\n",
       "      <th>2020-07-09</th>\n",
       "      <td>13.144423</td>\n",
       "      <td>224.452042</td>\n",
       "      <td>36.041828</td>\n",
       "      <td>5.99</td>\n",
       "      <td>125.769699</td>\n",
       "      <td>135.890472</td>\n",
       "      <td>74.072105</td>\n",
       "      <td>48.925163</td>\n",
       "      <td>23.799025</td>\n",
       "      <td>53.612103</td>\n",
       "    </tr>\n",
       "    <tr>\n",
       "      <th>2020-07-10</th>\n",
       "      <td>13.135062</td>\n",
       "      <td>221.954407</td>\n",
       "      <td>36.176849</td>\n",
       "      <td>5.96</td>\n",
       "      <td>124.752846</td>\n",
       "      <td>134.586685</td>\n",
       "      <td>72.358620</td>\n",
       "      <td>48.123974</td>\n",
       "      <td>23.789183</td>\n",
       "      <td>53.475685</td>\n",
       "    </tr>\n",
       "    <tr>\n",
       "      <th>2020-07-13</th>\n",
       "      <td>13.144423</td>\n",
       "      <td>218.156464</td>\n",
       "      <td>35.684978</td>\n",
       "      <td>6.19</td>\n",
       "      <td>123.670074</td>\n",
       "      <td>134.068863</td>\n",
       "      <td>73.005737</td>\n",
       "      <td>50.289822</td>\n",
       "      <td>23.080526</td>\n",
       "      <td>52.511017</td>\n",
       "    </tr>\n",
       "    <tr>\n",
       "      <th>2020-07-14</th>\n",
       "      <td>13.172510</td>\n",
       "      <td>215.116257</td>\n",
       "      <td>34.903767</td>\n",
       "      <td>6.13</td>\n",
       "      <td>122.690895</td>\n",
       "      <td>132.099304</td>\n",
       "      <td>72.714081</td>\n",
       "      <td>49.198093</td>\n",
       "      <td>22.923046</td>\n",
       "      <td>52.988480</td>\n",
       "    </tr>\n",
       "  </tbody>\n",
       "</table>\n",
       "</div>"
      ],
      "text/plain": [
       "                  AMX        ASUR      BIMBO  CEMEX       FEMSA         GAP  \\\n",
       "Date                                                                          \n",
       "2020-07-08  13.631255  235.162949  37.073799   6.29  128.989700  145.377655   \n",
       "2020-07-09  13.144423  224.452042  36.041828   5.99  125.769699  135.890472   \n",
       "2020-07-10  13.135062  221.954407  36.176849   5.96  124.752846  134.586685   \n",
       "2020-07-13  13.144423  218.156464  35.684978   6.19  123.670074  134.068863   \n",
       "2020-07-14  13.172510  215.116257  34.903767   6.13  122.690895  132.099304   \n",
       "\n",
       "              GFNORTE    GMEXICO    TLEVISA     WALMEX  \n",
       "Date                                                    \n",
       "2020-07-08  74.518715  48.784298  24.930906  53.758259  \n",
       "2020-07-09  74.072105  48.925163  23.799025  53.612103  \n",
       "2020-07-10  72.358620  48.123974  23.789183  53.475685  \n",
       "2020-07-13  73.005737  50.289822  23.080526  52.511017  \n",
       "2020-07-14  72.714081  49.198093  22.923046  52.988480  "
      ]
     },
     "execution_count": 18,
     "metadata": {},
     "output_type": "execute_result"
    }
   ],
   "source": [
    "pf_dat.head()"
   ]
  },
  {
   "cell_type": "code",
   "execution_count": 19,
   "metadata": {
    "colab": {
     "base_uri": "https://localhost:8080/",
     "height": 238
    },
    "id": "hllWodyHtOio",
    "outputId": "7901128d-d11b-4ffc-c9b8-657104bd16a8"
   },
   "outputs": [
    {
     "data": {
      "text/html": [
       "<div>\n",
       "<style scoped>\n",
       "    .dataframe tbody tr th:only-of-type {\n",
       "        vertical-align: middle;\n",
       "    }\n",
       "\n",
       "    .dataframe tbody tr th {\n",
       "        vertical-align: top;\n",
       "    }\n",
       "\n",
       "    .dataframe thead th {\n",
       "        text-align: right;\n",
       "    }\n",
       "</style>\n",
       "<table border=\"1\" class=\"dataframe\">\n",
       "  <thead>\n",
       "    <tr style=\"text-align: right;\">\n",
       "      <th></th>\n",
       "      <th>AMX</th>\n",
       "      <th>ASUR</th>\n",
       "      <th>BIMBO</th>\n",
       "      <th>CEMEX</th>\n",
       "      <th>FEMSA</th>\n",
       "      <th>GAP</th>\n",
       "      <th>GFNORTE</th>\n",
       "      <th>GMEXICO</th>\n",
       "      <th>TLEVISA</th>\n",
       "      <th>WALMEX</th>\n",
       "    </tr>\n",
       "    <tr>\n",
       "      <th>Date</th>\n",
       "      <th></th>\n",
       "      <th></th>\n",
       "      <th></th>\n",
       "      <th></th>\n",
       "      <th></th>\n",
       "      <th></th>\n",
       "      <th></th>\n",
       "      <th></th>\n",
       "      <th></th>\n",
       "      <th></th>\n",
       "    </tr>\n",
       "  </thead>\n",
       "  <tbody>\n",
       "    <tr>\n",
       "      <th>2022-07-04</th>\n",
       "      <td>20.580000</td>\n",
       "      <td>399.339996</td>\n",
       "      <td>69.570000</td>\n",
       "      <td>7.75</td>\n",
       "      <td>142.110001</td>\n",
       "      <td>281.500000</td>\n",
       "      <td>112.559998</td>\n",
       "      <td>84.190002</td>\n",
       "      <td>33.139999</td>\n",
       "      <td>69.790001</td>\n",
       "    </tr>\n",
       "    <tr>\n",
       "      <th>2022-07-05</th>\n",
       "      <td>20.680000</td>\n",
       "      <td>393.839996</td>\n",
       "      <td>67.180000</td>\n",
       "      <td>8.01</td>\n",
       "      <td>132.149994</td>\n",
       "      <td>282.829987</td>\n",
       "      <td>112.059998</td>\n",
       "      <td>80.910004</td>\n",
       "      <td>33.299999</td>\n",
       "      <td>69.660004</td>\n",
       "    </tr>\n",
       "    <tr>\n",
       "      <th>2022-07-06</th>\n",
       "      <td>20.990000</td>\n",
       "      <td>402.420013</td>\n",
       "      <td>69.910004</td>\n",
       "      <td>8.04</td>\n",
       "      <td>127.050003</td>\n",
       "      <td>293.970001</td>\n",
       "      <td>112.889999</td>\n",
       "      <td>81.309998</td>\n",
       "      <td>33.450001</td>\n",
       "      <td>68.839996</td>\n",
       "    </tr>\n",
       "    <tr>\n",
       "      <th>2022-07-07</th>\n",
       "      <td>20.160000</td>\n",
       "      <td>395.459991</td>\n",
       "      <td>69.680000</td>\n",
       "      <td>8.03</td>\n",
       "      <td>123.650002</td>\n",
       "      <td>287.609985</td>\n",
       "      <td>112.180000</td>\n",
       "      <td>84.680000</td>\n",
       "      <td>32.900002</td>\n",
       "      <td>68.900002</td>\n",
       "    </tr>\n",
       "    <tr>\n",
       "      <th>2022-07-08</th>\n",
       "      <td>20.299999</td>\n",
       "      <td>395.579987</td>\n",
       "      <td>69.930000</td>\n",
       "      <td>7.98</td>\n",
       "      <td>123.500000</td>\n",
       "      <td>291.619995</td>\n",
       "      <td>113.790001</td>\n",
       "      <td>84.099998</td>\n",
       "      <td>32.730000</td>\n",
       "      <td>68.779999</td>\n",
       "    </tr>\n",
       "  </tbody>\n",
       "</table>\n",
       "</div>"
      ],
      "text/plain": [
       "                  AMX        ASUR      BIMBO  CEMEX       FEMSA         GAP  \\\n",
       "Date                                                                          \n",
       "2022-07-04  20.580000  399.339996  69.570000   7.75  142.110001  281.500000   \n",
       "2022-07-05  20.680000  393.839996  67.180000   8.01  132.149994  282.829987   \n",
       "2022-07-06  20.990000  402.420013  69.910004   8.04  127.050003  293.970001   \n",
       "2022-07-07  20.160000  395.459991  69.680000   8.03  123.650002  287.609985   \n",
       "2022-07-08  20.299999  395.579987  69.930000   7.98  123.500000  291.619995   \n",
       "\n",
       "               GFNORTE    GMEXICO    TLEVISA     WALMEX  \n",
       "Date                                                     \n",
       "2022-07-04  112.559998  84.190002  33.139999  69.790001  \n",
       "2022-07-05  112.059998  80.910004  33.299999  69.660004  \n",
       "2022-07-06  112.889999  81.309998  33.450001  68.839996  \n",
       "2022-07-07  112.180000  84.680000  32.900002  68.900002  \n",
       "2022-07-08  113.790001  84.099998  32.730000  68.779999  "
      ]
     },
     "execution_count": 19,
     "metadata": {},
     "output_type": "execute_result"
    }
   ],
   "source": [
    "pf_dat.tail()"
   ]
  },
  {
   "cell_type": "code",
   "execution_count": 20,
   "metadata": {
    "colab": {
     "base_uri": "https://localhost:8080/",
     "height": 351
    },
    "id": "-qOH_qhLtQaW",
    "outputId": "3b281113-5c69-4f86-868e-38c7eb680c89"
   },
   "outputs": [
    {
     "data": {
      "text/plain": [
       "<AxesSubplot:xlabel='Date'>"
      ]
     },
     "execution_count": 20,
     "metadata": {},
     "output_type": "execute_result"
    },
    {
     "data": {
      "image/png": "[encoded data removed]",
      "text/plain": [
       "<Figure size 720x360 with 1 Axes>"
      ]
     },
     "metadata": {
      "needs_background": "light"
     },
     "output_type": "display_data"
    }
   ],
   "source": [
    "(pf_dat / pf_dat.iloc[0] * 100).plot(figsize=(10, 5))"
   ]
  },
  {
   "cell_type": "code",
   "execution_count": 21,
   "metadata": {
    "id": "fbRxzVGYtbtR"
   },
   "outputs": [],
   "source": [
    "log_rend = np.log(pf_dat / pf_dat.shift(1))"
   ]
  },
  {
   "cell_type": "code",
   "execution_count": 22,
   "metadata": {
    "colab": {
     "base_uri": "https://localhost:8080/"
    },
    "id": "vyTr76hKtduv",
    "outputId": "fca82ecc-3d5f-4de9-cbaf-84b1952d2490"
   },
   "outputs": [
    {
     "data": {
      "text/plain": [
       "AMX        0.196767\n",
       "ASUR       0.256954\n",
       "BIMBO      0.313530\n",
       "CEMEX      0.117578\n",
       "FEMSA     -0.021488\n",
       "GAP        0.343931\n",
       "GFNORTE    0.209142\n",
       "GMEXICO    0.269070\n",
       "TLEVISA    0.134478\n",
       "WALMEX     0.121747\n",
       "dtype: float64"
      ]
     },
     "execution_count": 22,
     "metadata": {},
     "output_type": "execute_result"
    }
   ],
   "source": [
    "log_rend.mean() * 250"
   ]
  },
  {
   "cell_type": "code",
   "execution_count": 23,
   "metadata": {
    "colab": {
     "base_uri": "https://localhost:8080/",
     "height": 206
    },
    "id": "AqmOG8fYthCk",
    "outputId": "79611538-ed43-4684-eb5a-1235c26137ef"
   },
   "outputs": [
    {
     "data": {
      "text/html": [
       "<div>\n",
       "<style scoped>\n",
       "    .dataframe tbody tr th:only-of-type {\n",
       "        vertical-align: middle;\n",
       "    }\n",
       "\n",
       "    .dataframe tbody tr th {\n",
       "        vertical-align: top;\n",
       "    }\n",
       "\n",
       "    .dataframe thead th {\n",
       "        text-align: right;\n",
       "    }\n",
       "</style>\n",
       "<table border=\"1\" class=\"dataframe\">\n",
       "  <thead>\n",
       "    <tr style=\"text-align: right;\">\n",
       "      <th></th>\n",
       "      <th>AMX</th>\n",
       "      <th>ASUR</th>\n",
       "      <th>BIMBO</th>\n",
       "      <th>CEMEX</th>\n",
       "      <th>FEMSA</th>\n",
       "      <th>GAP</th>\n",
       "      <th>GFNORTE</th>\n",
       "      <th>GMEXICO</th>\n",
       "      <th>TLEVISA</th>\n",
       "      <th>WALMEX</th>\n",
       "    </tr>\n",
       "  </thead>\n",
       "  <tbody>\n",
       "    <tr>\n",
       "      <th>AMX</th>\n",
       "      <td>0.056760</td>\n",
       "      <td>0.017992</td>\n",
       "      <td>0.015032</td>\n",
       "      <td>0.023488</td>\n",
       "      <td>0.020046</td>\n",
       "      <td>0.019851</td>\n",
       "      <td>0.018899</td>\n",
       "      <td>0.019855</td>\n",
       "      <td>0.027972</td>\n",
       "      <td>0.013803</td>\n",
       "    </tr>\n",
       "    <tr>\n",
       "      <th>ASUR</th>\n",
       "      <td>0.017992</td>\n",
       "      <td>0.093775</td>\n",
       "      <td>0.018465</td>\n",
       "      <td>0.037338</td>\n",
       "      <td>0.026855</td>\n",
       "      <td>0.068183</td>\n",
       "      <td>0.031577</td>\n",
       "      <td>0.018218</td>\n",
       "      <td>0.032960</td>\n",
       "      <td>0.015386</td>\n",
       "    </tr>\n",
       "    <tr>\n",
       "      <th>BIMBO</th>\n",
       "      <td>0.015032</td>\n",
       "      <td>0.018465</td>\n",
       "      <td>0.123990</td>\n",
       "      <td>0.021964</td>\n",
       "      <td>0.016265</td>\n",
       "      <td>0.023049</td>\n",
       "      <td>0.023501</td>\n",
       "      <td>0.020703</td>\n",
       "      <td>0.024373</td>\n",
       "      <td>0.009146</td>\n",
       "    </tr>\n",
       "    <tr>\n",
       "      <th>CEMEX</th>\n",
       "      <td>0.023488</td>\n",
       "      <td>0.037338</td>\n",
       "      <td>0.021964</td>\n",
       "      <td>0.173824</td>\n",
       "      <td>0.026484</td>\n",
       "      <td>0.042701</td>\n",
       "      <td>0.045060</td>\n",
       "      <td>0.036377</td>\n",
       "      <td>0.061044</td>\n",
       "      <td>0.019686</td>\n",
       "    </tr>\n",
       "    <tr>\n",
       "      <th>FEMSA</th>\n",
       "      <td>0.020046</td>\n",
       "      <td>0.026855</td>\n",
       "      <td>0.016265</td>\n",
       "      <td>0.026484</td>\n",
       "      <td>0.064341</td>\n",
       "      <td>0.026164</td>\n",
       "      <td>0.030024</td>\n",
       "      <td>0.014584</td>\n",
       "      <td>0.031816</td>\n",
       "      <td>0.011783</td>\n",
       "    </tr>\n",
       "    <tr>\n",
       "      <th>GAP</th>\n",
       "      <td>0.019851</td>\n",
       "      <td>0.068183</td>\n",
       "      <td>0.023049</td>\n",
       "      <td>0.042701</td>\n",
       "      <td>0.026164</td>\n",
       "      <td>0.107424</td>\n",
       "      <td>0.036837</td>\n",
       "      <td>0.023095</td>\n",
       "      <td>0.041056</td>\n",
       "      <td>0.017925</td>\n",
       "    </tr>\n",
       "    <tr>\n",
       "      <th>GFNORTE</th>\n",
       "      <td>0.018899</td>\n",
       "      <td>0.031577</td>\n",
       "      <td>0.023501</td>\n",
       "      <td>0.045060</td>\n",
       "      <td>0.030024</td>\n",
       "      <td>0.036837</td>\n",
       "      <td>0.135875</td>\n",
       "      <td>0.036636</td>\n",
       "      <td>0.042026</td>\n",
       "      <td>0.025140</td>\n",
       "    </tr>\n",
       "    <tr>\n",
       "      <th>GMEXICO</th>\n",
       "      <td>0.019855</td>\n",
       "      <td>0.018218</td>\n",
       "      <td>0.020703</td>\n",
       "      <td>0.036377</td>\n",
       "      <td>0.014584</td>\n",
       "      <td>0.023095</td>\n",
       "      <td>0.036636</td>\n",
       "      <td>0.141945</td>\n",
       "      <td>0.033531</td>\n",
       "      <td>0.011535</td>\n",
       "    </tr>\n",
       "    <tr>\n",
       "      <th>TLEVISA</th>\n",
       "      <td>0.027972</td>\n",
       "      <td>0.032960</td>\n",
       "      <td>0.024373</td>\n",
       "      <td>0.061044</td>\n",
       "      <td>0.031816</td>\n",
       "      <td>0.041056</td>\n",
       "      <td>0.042026</td>\n",
       "      <td>0.033531</td>\n",
       "      <td>0.166323</td>\n",
       "      <td>0.023963</td>\n",
       "    </tr>\n",
       "    <tr>\n",
       "      <th>WALMEX</th>\n",
       "      <td>0.013803</td>\n",
       "      <td>0.015386</td>\n",
       "      <td>0.009146</td>\n",
       "      <td>0.019686</td>\n",
       "      <td>0.011783</td>\n",
       "      <td>0.017925</td>\n",
       "      <td>0.025140</td>\n",
       "      <td>0.011535</td>\n",
       "      <td>0.023963</td>\n",
       "      <td>0.070423</td>\n",
       "    </tr>\n",
       "  </tbody>\n",
       "</table>\n",
       "</div>"
      ],
      "text/plain": [
       "              AMX      ASUR     BIMBO     CEMEX     FEMSA       GAP   GFNORTE  \\\n",
       "AMX      0.056760  0.017992  0.015032  0.023488  0.020046  0.019851  0.018899   \n",
       "ASUR     0.017992  0.093775  0.018465  0.037338  0.026855  0.068183  0.031577   \n",
       "BIMBO    0.015032  0.018465  0.123990  0.021964  0.016265  0.023049  0.023501   \n",
       "CEMEX    0.023488  0.037338  0.021964  0.173824  0.026484  0.042701  0.045060   \n",
       "FEMSA    0.020046  0.026855  0.016265  0.026484  0.064341  0.026164  0.030024   \n",
       "GAP      0.019851  0.068183  0.023049  0.042701  0.026164  0.107424  0.036837   \n",
       "GFNORTE  0.018899  0.031577  0.023501  0.045060  0.030024  0.036837  0.135875   \n",
       "GMEXICO  0.019855  0.018218  0.020703  0.036377  0.014584  0.023095  0.036636   \n",
       "TLEVISA  0.027972  0.032960  0.024373  0.061044  0.031816  0.041056  0.042026   \n",
       "WALMEX   0.013803  0.015386  0.009146  0.019686  0.011783  0.017925  0.025140   \n",
       "\n",
       "          GMEXICO   TLEVISA    WALMEX  \n",
       "AMX      0.019855  0.027972  0.013803  \n",
       "ASUR     0.018218  0.032960  0.015386  \n",
       "BIMBO    0.020703  0.024373  0.009146  \n",
       "CEMEX    0.036377  0.061044  0.019686  \n",
       "FEMSA    0.014584  0.031816  0.011783  \n",
       "GAP      0.023095  0.041056  0.017925  \n",
       "GFNORTE  0.036636  0.042026  0.025140  \n",
       "GMEXICO  0.141945  0.033531  0.011535  \n",
       "TLEVISA  0.033531  0.166323  0.023963  \n",
       "WALMEX   0.011535  0.023963  0.070423  "
      ]
     },
     "execution_count": 23,
     "metadata": {},
     "output_type": "execute_result"
    }
   ],
   "source": [
    "log_rend.cov() * 250"
   ]
  },
  {
   "cell_type": "code",
   "execution_count": 24,
   "metadata": {
    "colab": {
     "base_uri": "https://localhost:8080/",
     "height": 206
    },
    "id": "aXyoMI0ptjVI",
    "outputId": "4e8794d2-7630-41ef-c7f5-fa68902695c0"
   },
   "outputs": [
    {
     "data": {
      "text/html": [
       "<div>\n",
       "<style scoped>\n",
       "    .dataframe tbody tr th:only-of-type {\n",
       "        vertical-align: middle;\n",
       "    }\n",
       "\n",
       "    .dataframe tbody tr th {\n",
       "        vertical-align: top;\n",
       "    }\n",
       "\n",
       "    .dataframe thead th {\n",
       "        text-align: right;\n",
       "    }\n",
       "</style>\n",
       "<table border=\"1\" class=\"dataframe\">\n",
       "  <thead>\n",
       "    <tr style=\"text-align: right;\">\n",
       "      <th></th>\n",
       "      <th>AMX</th>\n",
       "      <th>ASUR</th>\n",
       "      <th>BIMBO</th>\n",
       "      <th>CEMEX</th>\n",
       "      <th>FEMSA</th>\n",
       "      <th>GAP</th>\n",
       "      <th>GFNORTE</th>\n",
       "      <th>GMEXICO</th>\n",
       "      <th>TLEVISA</th>\n",
       "      <th>WALMEX</th>\n",
       "    </tr>\n",
       "  </thead>\n",
       "  <tbody>\n",
       "    <tr>\n",
       "      <th>AMX</th>\n",
       "      <td>1.000000</td>\n",
       "      <td>0.246608</td>\n",
       "      <td>0.179182</td>\n",
       "      <td>0.236470</td>\n",
       "      <td>0.331713</td>\n",
       "      <td>0.254226</td>\n",
       "      <td>0.215202</td>\n",
       "      <td>0.221198</td>\n",
       "      <td>0.287894</td>\n",
       "      <td>0.218323</td>\n",
       "    </tr>\n",
       "    <tr>\n",
       "      <th>ASUR</th>\n",
       "      <td>0.246608</td>\n",
       "      <td>1.000000</td>\n",
       "      <td>0.171240</td>\n",
       "      <td>0.292447</td>\n",
       "      <td>0.345732</td>\n",
       "      <td>0.679330</td>\n",
       "      <td>0.279745</td>\n",
       "      <td>0.157902</td>\n",
       "      <td>0.263917</td>\n",
       "      <td>0.189337</td>\n",
       "    </tr>\n",
       "    <tr>\n",
       "      <th>BIMBO</th>\n",
       "      <td>0.179182</td>\n",
       "      <td>0.171240</td>\n",
       "      <td>1.000000</td>\n",
       "      <td>0.149610</td>\n",
       "      <td>0.182106</td>\n",
       "      <td>0.199717</td>\n",
       "      <td>0.181060</td>\n",
       "      <td>0.156056</td>\n",
       "      <td>0.169722</td>\n",
       "      <td>0.097874</td>\n",
       "    </tr>\n",
       "    <tr>\n",
       "      <th>CEMEX</th>\n",
       "      <td>0.236470</td>\n",
       "      <td>0.292447</td>\n",
       "      <td>0.149610</td>\n",
       "      <td>1.000000</td>\n",
       "      <td>0.250433</td>\n",
       "      <td>0.312486</td>\n",
       "      <td>0.293202</td>\n",
       "      <td>0.231583</td>\n",
       "      <td>0.359015</td>\n",
       "      <td>0.177931</td>\n",
       "    </tr>\n",
       "    <tr>\n",
       "      <th>FEMSA</th>\n",
       "      <td>0.331713</td>\n",
       "      <td>0.345732</td>\n",
       "      <td>0.182106</td>\n",
       "      <td>0.250433</td>\n",
       "      <td>1.000000</td>\n",
       "      <td>0.314706</td>\n",
       "      <td>0.321112</td>\n",
       "      <td>0.152609</td>\n",
       "      <td>0.307559</td>\n",
       "      <td>0.175052</td>\n",
       "    </tr>\n",
       "    <tr>\n",
       "      <th>GAP</th>\n",
       "      <td>0.254226</td>\n",
       "      <td>0.679330</td>\n",
       "      <td>0.199717</td>\n",
       "      <td>0.312486</td>\n",
       "      <td>0.314706</td>\n",
       "      <td>1.000000</td>\n",
       "      <td>0.304907</td>\n",
       "      <td>0.187032</td>\n",
       "      <td>0.307149</td>\n",
       "      <td>0.206091</td>\n",
       "    </tr>\n",
       "    <tr>\n",
       "      <th>GFNORTE</th>\n",
       "      <td>0.215202</td>\n",
       "      <td>0.279745</td>\n",
       "      <td>0.181060</td>\n",
       "      <td>0.293202</td>\n",
       "      <td>0.321112</td>\n",
       "      <td>0.304907</td>\n",
       "      <td>1.000000</td>\n",
       "      <td>0.263800</td>\n",
       "      <td>0.279556</td>\n",
       "      <td>0.257003</td>\n",
       "    </tr>\n",
       "    <tr>\n",
       "      <th>GMEXICO</th>\n",
       "      <td>0.221198</td>\n",
       "      <td>0.157902</td>\n",
       "      <td>0.156056</td>\n",
       "      <td>0.231583</td>\n",
       "      <td>0.152609</td>\n",
       "      <td>0.187032</td>\n",
       "      <td>0.263800</td>\n",
       "      <td>1.000000</td>\n",
       "      <td>0.218229</td>\n",
       "      <td>0.115376</td>\n",
       "    </tr>\n",
       "    <tr>\n",
       "      <th>TLEVISA</th>\n",
       "      <td>0.287894</td>\n",
       "      <td>0.263917</td>\n",
       "      <td>0.169722</td>\n",
       "      <td>0.359015</td>\n",
       "      <td>0.307559</td>\n",
       "      <td>0.307149</td>\n",
       "      <td>0.279556</td>\n",
       "      <td>0.218229</td>\n",
       "      <td>1.000000</td>\n",
       "      <td>0.221417</td>\n",
       "    </tr>\n",
       "    <tr>\n",
       "      <th>WALMEX</th>\n",
       "      <td>0.218323</td>\n",
       "      <td>0.189337</td>\n",
       "      <td>0.097874</td>\n",
       "      <td>0.177931</td>\n",
       "      <td>0.175052</td>\n",
       "      <td>0.206091</td>\n",
       "      <td>0.257003</td>\n",
       "      <td>0.115376</td>\n",
       "      <td>0.221417</td>\n",
       "      <td>1.000000</td>\n",
       "    </tr>\n",
       "  </tbody>\n",
       "</table>\n",
       "</div>"
      ],
      "text/plain": [
       "              AMX      ASUR     BIMBO     CEMEX     FEMSA       GAP   GFNORTE  \\\n",
       "AMX      1.000000  0.246608  0.179182  0.236470  0.331713  0.254226  0.215202   \n",
       "ASUR     0.246608  1.000000  0.171240  0.292447  0.345732  0.679330  0.279745   \n",
       "BIMBO    0.179182  0.171240  1.000000  0.149610  0.182106  0.199717  0.181060   \n",
       "CEMEX    0.236470  0.292447  0.149610  1.000000  0.250433  0.312486  0.293202   \n",
       "FEMSA    0.331713  0.345732  0.182106  0.250433  1.000000  0.314706  0.321112   \n",
       "GAP      0.254226  0.679330  0.199717  0.312486  0.314706  1.000000  0.304907   \n",
       "GFNORTE  0.215202  0.279745  0.181060  0.293202  0.321112  0.304907  1.000000   \n",
       "GMEXICO  0.221198  0.157902  0.156056  0.231583  0.152609  0.187032  0.263800   \n",
       "TLEVISA  0.287894  0.263917  0.169722  0.359015  0.307559  0.307149  0.279556   \n",
       "WALMEX   0.218323  0.189337  0.097874  0.177931  0.175052  0.206091  0.257003   \n",
       "\n",
       "          GMEXICO   TLEVISA    WALMEX  \n",
       "AMX      0.221198  0.287894  0.218323  \n",
       "ASUR     0.157902  0.263917  0.189337  \n",
       "BIMBO    0.156056  0.169722  0.097874  \n",
       "CEMEX    0.231583  0.359015  0.177931  \n",
       "FEMSA    0.152609  0.307559  0.175052  \n",
       "GAP      0.187032  0.307149  0.206091  \n",
       "GFNORTE  0.263800  0.279556  0.257003  \n",
       "GMEXICO  1.000000  0.218229  0.115376  \n",
       "TLEVISA  0.218229  1.000000  0.221417  \n",
       "WALMEX   0.115376  0.221417  1.000000  "
      ]
     },
     "execution_count": 24,
     "metadata": {},
     "output_type": "execute_result"
    }
   ],
   "source": [
    "log_rend.corr()"
   ]
  },
  {
   "cell_type": "code",
   "execution_count": 29,
   "metadata": {
    "id": "7I3JAJBRtlzS"
   },
   "outputs": [
    {
     "data": {
      "text/plain": [
       "10"
      ]
     },
     "execution_count": 29,
     "metadata": {},
     "output_type": "execute_result"
    }
   ],
   "source": [
    "num_val = len(val)\n",
    "num_val"
   ]
  },
  {
   "cell_type": "markdown",
   "metadata": {
    "id": "jPwwy844B-WY"
   },
   "source": [
    "Prueba para Randomizar los Pesos"
   ]
  },
  {
   "cell_type": "code",
   "execution_count": 28,
   "metadata": {
    "colab": {
     "base_uri": "https://localhost:8080/"
    },
    "id": "viYFyzNGt0Tc",
    "outputId": "ec2df54f-f86c-4b1a-cccc-2f4bd02f6843"
   },
   "outputs": [
    {
     "data": {
      "text/plain": [
       "array([0.05308968, 0.17759399, 0.15986222, 0.01472123, 0.02843026,\n",
       "       0.10808055, 0.14013791, 0.09359558, 0.05614078, 0.1683478 ])"
      ]
     },
     "execution_count": 28,
     "metadata": {},
     "output_type": "execute_result"
    }
   ],
   "source": [
    "pesos = np.random.random(num_val)\n",
    "pesos /= np.sum(pesos)\n",
    "pesos"
   ]
  },
  {
   "cell_type": "markdown",
   "metadata": {
    "id": "Vcrei0r8CFF7"
   },
   "source": [
    "Prueba para verificar que los pesos sean <1"
   ]
  },
  {
   "cell_type": "code",
   "execution_count": 31,
   "metadata": {
    "colab": {
     "base_uri": "https://localhost:8080/"
    },
    "id": "QvRao4X7twT6",
    "outputId": "d60129d2-a43b-47a6-fac6-8ddb62a4b0ae"
   },
   "outputs": [
    {
     "data": {
      "text/plain": [
       "1.0"
      ]
     },
     "execution_count": 31,
     "metadata": {},
     "output_type": "execute_result"
    }
   ],
   "source": [
    "pesos[0] + pesos[1] + pesos[2]+ pesos[3]+ pesos[4]+pesos[5]+pesos[6]+pesos[7]+pesos[8]+pesos[9]"
   ]
  },
  {
   "cell_type": "code",
   "execution_count": 91,
   "metadata": {
    "colab": {
     "base_uri": "https://localhost:8080/"
    },
    "id": "QULqtK7wuR16",
    "outputId": "462454f9-fd70-417c-c39c-9b023ec49019"
   },
   "outputs": [
    {
     "data": {
      "text/plain": [
       "(array([0.23379909, 0.20704719, 0.16126438, ..., 0.21469413, 0.2000042 ,\n",
       "        0.19541566]),\n",
       " array([0.19761778, 0.20509448, 0.19491942, ..., 0.18208466, 0.19141242,\n",
       "        0.20206752]))"
      ]
     },
     "execution_count": 91,
     "metadata": {},
     "output_type": "execute_result"
    }
   ],
   "source": [
    "pfolio_rend = []\n",
    "pfolio_vol = []\n",
    "aux2=np.empty((100000,10))\n",
    "for x in range (100000): #Ciclo para generar 10,000 pesos\n",
    "    pesos = np.random.random(num_val) #Generamos pesos aleatorios entre nuestras 5 empresas\n",
    "    pesos /= np.sum(pesos) # Nos aseguramos que nuestros pesos sean una suma =1\n",
    "    aux2[x]=pesos #variable para guardar nuestros pesos\n",
    "    pfolio_rend.append(np.sum(pesos * log_rend.mean()) * 250) #variable para guardar el rendimiento\n",
    "    pfolio_vol.append(np.sqrt(np.dot(pesos.T,np.dot(log_rend.cov() * 250, pesos)))) #Variable para guarar la volatilidad\n",
    "    \n",
    "pfolio_rend = np.array(pfolio_rend) #Vector de Rendimientos\n",
    "pfolio_vol = np.array(pfolio_vol) # Vector de Volatilidad\n",
    "\n",
    "pfolio_rend, pfolio_vol"
   ]
  },
  {
   "cell_type": "code",
   "execution_count": 92,
   "metadata": {
    "id": "9U74YoWMuXUH"
   },
   "outputs": [],
   "source": [
    "portafolios = pd.DataFrame({'Rendimiento': pfolio_rend, 'Volatilidad': pfolio_vol})"
   ]
  },
  {
   "cell_type": "code",
   "execution_count": 93,
   "metadata": {
    "colab": {
     "base_uri": "https://localhost:8080/",
     "height": 206
    },
    "id": "hq4Twmhcubpa",
    "outputId": "3a9d46e9-bb3f-421e-c813-e0497253d3eb"
   },
   "outputs": [
    {
     "data": {
      "text/html": [
       "<div>\n",
       "<style scoped>\n",
       "    .dataframe tbody tr th:only-of-type {\n",
       "        vertical-align: middle;\n",
       "    }\n",
       "\n",
       "    .dataframe tbody tr th {\n",
       "        vertical-align: top;\n",
       "    }\n",
       "\n",
       "    .dataframe thead th {\n",
       "        text-align: right;\n",
       "    }\n",
       "</style>\n",
       "<table border=\"1\" class=\"dataframe\">\n",
       "  <thead>\n",
       "    <tr style=\"text-align: right;\">\n",
       "      <th></th>\n",
       "      <th>Rendimiento</th>\n",
       "      <th>Volatilidad</th>\n",
       "    </tr>\n",
       "  </thead>\n",
       "  <tbody>\n",
       "    <tr>\n",
       "      <th>0</th>\n",
       "      <td>0.233799</td>\n",
       "      <td>0.197618</td>\n",
       "    </tr>\n",
       "    <tr>\n",
       "      <th>1</th>\n",
       "      <td>0.207047</td>\n",
       "      <td>0.205094</td>\n",
       "    </tr>\n",
       "    <tr>\n",
       "      <th>2</th>\n",
       "      <td>0.161264</td>\n",
       "      <td>0.194919</td>\n",
       "    </tr>\n",
       "    <tr>\n",
       "      <th>3</th>\n",
       "      <td>0.165783</td>\n",
       "      <td>0.181133</td>\n",
       "    </tr>\n",
       "    <tr>\n",
       "      <th>4</th>\n",
       "      <td>0.199941</td>\n",
       "      <td>0.196641</td>\n",
       "    </tr>\n",
       "  </tbody>\n",
       "</table>\n",
       "</div>"
      ],
      "text/plain": [
       "   Rendimiento  Volatilidad\n",
       "0     0.233799     0.197618\n",
       "1     0.207047     0.205094\n",
       "2     0.161264     0.194919\n",
       "3     0.165783     0.181133\n",
       "4     0.199941     0.196641"
      ]
     },
     "execution_count": 93,
     "metadata": {},
     "output_type": "execute_result"
    }
   ],
   "source": [
    "portafolios.head()"
   ]
  },
  {
   "cell_type": "code",
   "execution_count": 94,
   "metadata": {
    "colab": {
     "base_uri": "https://localhost:8080/",
     "height": 206
    },
    "id": "6_oEuxV9uc4F",
    "outputId": "1cb3490a-606b-43b8-ab20-6a086fa76d55"
   },
   "outputs": [
    {
     "data": {
      "text/html": [
       "<div>\n",
       "<style scoped>\n",
       "    .dataframe tbody tr th:only-of-type {\n",
       "        vertical-align: middle;\n",
       "    }\n",
       "\n",
       "    .dataframe tbody tr th {\n",
       "        vertical-align: top;\n",
       "    }\n",
       "\n",
       "    .dataframe thead th {\n",
       "        text-align: right;\n",
       "    }\n",
       "</style>\n",
       "<table border=\"1\" class=\"dataframe\">\n",
       "  <thead>\n",
       "    <tr style=\"text-align: right;\">\n",
       "      <th></th>\n",
       "      <th>Rendimiento</th>\n",
       "      <th>Volatilidad</th>\n",
       "    </tr>\n",
       "  </thead>\n",
       "  <tbody>\n",
       "    <tr>\n",
       "      <th>99995</th>\n",
       "      <td>0.196007</td>\n",
       "      <td>0.206530</td>\n",
       "    </tr>\n",
       "    <tr>\n",
       "      <th>99996</th>\n",
       "      <td>0.177677</td>\n",
       "      <td>0.201683</td>\n",
       "    </tr>\n",
       "    <tr>\n",
       "      <th>99997</th>\n",
       "      <td>0.214694</td>\n",
       "      <td>0.182085</td>\n",
       "    </tr>\n",
       "    <tr>\n",
       "      <th>99998</th>\n",
       "      <td>0.200004</td>\n",
       "      <td>0.191412</td>\n",
       "    </tr>\n",
       "    <tr>\n",
       "      <th>99999</th>\n",
       "      <td>0.195416</td>\n",
       "      <td>0.202068</td>\n",
       "    </tr>\n",
       "  </tbody>\n",
       "</table>\n",
       "</div>"
      ],
      "text/plain": [
       "       Rendimiento  Volatilidad\n",
       "99995     0.196007     0.206530\n",
       "99996     0.177677     0.201683\n",
       "99997     0.214694     0.182085\n",
       "99998     0.200004     0.191412\n",
       "99999     0.195416     0.202068"
      ]
     },
     "execution_count": 94,
     "metadata": {},
     "output_type": "execute_result"
    }
   ],
   "source": [
    "portafolios.tail()"
   ]
  },
  {
   "cell_type": "code",
   "execution_count": 95,
   "metadata": {
    "colab": {
     "base_uri": "https://localhost:8080/",
     "height": 405
    },
    "id": "0mmEMShXufIk",
    "outputId": "2b4d7deb-ba50-4999-cbe2-82191bb4ac92"
   },
   "outputs": [
    {
     "data": {
      "text/plain": [
       "Text(0, 0.5, 'Rendimiento Esperado')"
      ]
     },
     "execution_count": 95,
     "metadata": {},
     "output_type": "execute_result"
    },
    {
     "data": {
      "image/png": "[encoded data removed]",
      "text/plain": [
       "<Figure size 1440x1080 with 1 Axes>"
      ]
     },
     "metadata": {
      "needs_background": "light"
     },
     "output_type": "display_data"
    }
   ],
   "source": [
    "portafolios.plot(x='Volatilidad', y='Rendimiento', kind='scatter', figsize=(20, 15));\n",
    "plt.xlabel('Volatilidad Esperada')\n",
    "plt.ylabel('Rendimiento Esperado')"
   ]
  },
  {
   "cell_type": "markdown",
   "metadata": {
    "id": "IYRMeN6k0eBt"
   },
   "source": [
    "Definimos nuestra Tasa Libre de Riesgo, Cetes 357 dias, tasa convertida a Diara"
   ]
  },
  {
   "cell_type": "code",
   "execution_count": 99,
   "metadata": {
    "id": "ny9JK8Ej0V3P"
   },
   "outputs": [],
   "source": [
    "rf=0.0969/100\n"
   ]
  },
  {
   "cell_type": "markdown",
   "metadata": {
    "id": "AXSDhsZc0s_R"
   },
   "source": [
    "Calulamos nuestra Prima de Riesgo"
   ]
  },
  {
   "cell_type": "code",
   "execution_count": 100,
   "metadata": {
    "colab": {
     "base_uri": "https://localhost:8080/"
    },
    "id": "xpI3Tjwv0snJ",
    "outputId": "52df072c-c574-463b-c421-7e78063adb54"
   },
   "outputs": [
    {
     "data": {
      "text/plain": [
       "array([1.17818393, 1.00479636, 0.82236744, ..., 1.17376786, 1.03982386,\n",
       "       0.96228555])"
      ]
     },
     "execution_count": 100,
     "metadata": {},
     "output_type": "execute_result"
    }
   ],
   "source": [
    "pr=(pfolio_rend-rf)/pfolio_vol\n",
    "pr"
   ]
  },
  {
   "cell_type": "markdown",
   "metadata": {
    "id": "NJ8Q953A1ii-"
   },
   "source": [
    "Insertamos la prima de riesgo al portafolio"
   ]
  },
  {
   "cell_type": "code",
   "execution_count": 101,
   "metadata": {
    "id": "vDgYKUF89vz1"
   },
   "outputs": [],
   "source": [
    "MP=pd.DataFrame(aux2,columns=[\"AMX\",\"ASUR\",\"BIMBO\",\"CEMEX\",\"FEMSA\",\"GAP\",\"GFNORTE\",\"GMEXICO\",\"TLEVISA\",\"WALMEX\"])\n"
   ]
  },
  {
   "cell_type": "code",
   "execution_count": 102,
   "metadata": {
    "id": "esFSyTYx1tzN"
   },
   "outputs": [],
   "source": [
    "ppr = pd.DataFrame({'Rendimiento': pfolio_rend, 'Volatilidad': pfolio_vol,\"Prima de Riesgo\":pr,\n",
    "                    \"AMX\": MP[\"AMX\"],\"ASUR\": MP[\"ASUR\"],\"BIMBO\": MP[\"BIMBO\"],\"CEMEX\": MP[\"CEMEX\"],\"FEMSA\": MP[\"FEMSA\"],\n",
    "                    \"GAP\": MP[\"GAP\"],\"GFNORTE\": MP[\"GFNORTE\"],\"GMEXICO\": MP[\"GMEXICO\"],\"TLEVISA\": MP[\"TLEVISA\"],\n",
    "                    \"WALMEX\": MP[\"WALMEX\"]})"
   ]
  },
  {
   "cell_type": "code",
   "execution_count": 103,
   "metadata": {
    "colab": {
     "base_uri": "https://localhost:8080/",
     "height": 206
    },
    "id": "9KHYMD7d17NJ",
    "outputId": "ac7766b3-e981-4133-9f2f-4dcb321e8619"
   },
   "outputs": [
    {
     "data": {
      "text/html": [
       "<div>\n",
       "<style scoped>\n",
       "    .dataframe tbody tr th:only-of-type {\n",
       "        vertical-align: middle;\n",
       "    }\n",
       "\n",
       "    .dataframe tbody tr th {\n",
       "        vertical-align: top;\n",
       "    }\n",
       "\n",
       "    .dataframe thead th {\n",
       "        text-align: right;\n",
       "    }\n",
       "</style>\n",
       "<table border=\"1\" class=\"dataframe\">\n",
       "  <thead>\n",
       "    <tr style=\"text-align: right;\">\n",
       "      <th></th>\n",
       "      <th>Rendimiento</th>\n",
       "      <th>Volatilidad</th>\n",
       "      <th>Prima de Riesgo</th>\n",
       "      <th>AMX</th>\n",
       "      <th>ASUR</th>\n",
       "      <th>BIMBO</th>\n",
       "      <th>CEMEX</th>\n",
       "      <th>FEMSA</th>\n",
       "      <th>GAP</th>\n",
       "      <th>GFNORTE</th>\n",
       "      <th>GMEXICO</th>\n",
       "      <th>TLEVISA</th>\n",
       "      <th>WALMEX</th>\n",
       "    </tr>\n",
       "  </thead>\n",
       "  <tbody>\n",
       "    <tr>\n",
       "      <th>0</th>\n",
       "      <td>0.233799</td>\n",
       "      <td>0.197618</td>\n",
       "      <td>1.178184</td>\n",
       "      <td>0.177161</td>\n",
       "      <td>0.082631</td>\n",
       "      <td>0.223418</td>\n",
       "      <td>0.092454</td>\n",
       "      <td>0.068217</td>\n",
       "      <td>0.211542</td>\n",
       "      <td>0.019760</td>\n",
       "      <td>0.034832</td>\n",
       "      <td>0.081557</td>\n",
       "      <td>0.008428</td>\n",
       "    </tr>\n",
       "    <tr>\n",
       "      <th>1</th>\n",
       "      <td>0.207047</td>\n",
       "      <td>0.205094</td>\n",
       "      <td>1.004796</td>\n",
       "      <td>0.144970</td>\n",
       "      <td>0.097083</td>\n",
       "      <td>0.132874</td>\n",
       "      <td>0.103844</td>\n",
       "      <td>0.010634</td>\n",
       "      <td>0.032277</td>\n",
       "      <td>0.087080</td>\n",
       "      <td>0.137755</td>\n",
       "      <td>0.211708</td>\n",
       "      <td>0.041776</td>\n",
       "    </tr>\n",
       "    <tr>\n",
       "      <th>2</th>\n",
       "      <td>0.161264</td>\n",
       "      <td>0.194919</td>\n",
       "      <td>0.822367</td>\n",
       "      <td>0.114204</td>\n",
       "      <td>0.019958</td>\n",
       "      <td>0.058365</td>\n",
       "      <td>0.144722</td>\n",
       "      <td>0.148709</td>\n",
       "      <td>0.074149</td>\n",
       "      <td>0.145415</td>\n",
       "      <td>0.055765</td>\n",
       "      <td>0.122759</td>\n",
       "      <td>0.115955</td>\n",
       "    </tr>\n",
       "    <tr>\n",
       "      <th>3</th>\n",
       "      <td>0.165783</td>\n",
       "      <td>0.181133</td>\n",
       "      <td>0.909906</td>\n",
       "      <td>0.075612</td>\n",
       "      <td>0.130609</td>\n",
       "      <td>0.097309</td>\n",
       "      <td>0.052758</td>\n",
       "      <td>0.177844</td>\n",
       "      <td>0.081578</td>\n",
       "      <td>0.003288</td>\n",
       "      <td>0.051672</td>\n",
       "      <td>0.134372</td>\n",
       "      <td>0.194959</td>\n",
       "    </tr>\n",
       "    <tr>\n",
       "      <th>4</th>\n",
       "      <td>0.199941</td>\n",
       "      <td>0.196641</td>\n",
       "      <td>1.011855</td>\n",
       "      <td>0.142057</td>\n",
       "      <td>0.033342</td>\n",
       "      <td>0.086394</td>\n",
       "      <td>0.163966</td>\n",
       "      <td>0.033506</td>\n",
       "      <td>0.148729</td>\n",
       "      <td>0.138807</td>\n",
       "      <td>0.038750</td>\n",
       "      <td>0.083118</td>\n",
       "      <td>0.131333</td>\n",
       "    </tr>\n",
       "  </tbody>\n",
       "</table>\n",
       "</div>"
      ],
      "text/plain": [
       "   Rendimiento  Volatilidad  Prima de Riesgo       AMX      ASUR     BIMBO  \\\n",
       "0     0.233799     0.197618         1.178184  0.177161  0.082631  0.223418   \n",
       "1     0.207047     0.205094         1.004796  0.144970  0.097083  0.132874   \n",
       "2     0.161264     0.194919         0.822367  0.114204  0.019958  0.058365   \n",
       "3     0.165783     0.181133         0.909906  0.075612  0.130609  0.097309   \n",
       "4     0.199941     0.196641         1.011855  0.142057  0.033342  0.086394   \n",
       "\n",
       "      CEMEX     FEMSA       GAP   GFNORTE   GMEXICO   TLEVISA    WALMEX  \n",
       "0  0.092454  0.068217  0.211542  0.019760  0.034832  0.081557  0.008428  \n",
       "1  0.103844  0.010634  0.032277  0.087080  0.137755  0.211708  0.041776  \n",
       "2  0.144722  0.148709  0.074149  0.145415  0.055765  0.122759  0.115955  \n",
       "3  0.052758  0.177844  0.081578  0.003288  0.051672  0.134372  0.194959  \n",
       "4  0.163966  0.033506  0.148729  0.138807  0.038750  0.083118  0.131333  "
      ]
     },
     "execution_count": 103,
     "metadata": {},
     "output_type": "execute_result"
    }
   ],
   "source": [
    "ppr.head()"
   ]
  },
  {
   "cell_type": "code",
   "execution_count": 104,
   "metadata": {
    "colab": {
     "base_uri": "https://localhost:8080/",
     "height": 206
    },
    "id": "9mk5pX3k2Dkr",
    "outputId": "51bcb72c-4bc5-4859-a45f-61b41469fe81"
   },
   "outputs": [
    {
     "data": {
      "text/html": [
       "<div>\n",
       "<style scoped>\n",
       "    .dataframe tbody tr th:only-of-type {\n",
       "        vertical-align: middle;\n",
       "    }\n",
       "\n",
       "    .dataframe tbody tr th {\n",
       "        vertical-align: top;\n",
       "    }\n",
       "\n",
       "    .dataframe thead th {\n",
       "        text-align: right;\n",
       "    }\n",
       "</style>\n",
       "<table border=\"1\" class=\"dataframe\">\n",
       "  <thead>\n",
       "    <tr style=\"text-align: right;\">\n",
       "      <th></th>\n",
       "      <th>Rendimiento</th>\n",
       "      <th>Volatilidad</th>\n",
       "      <th>Prima de Riesgo</th>\n",
       "      <th>AMX</th>\n",
       "      <th>ASUR</th>\n",
       "      <th>BIMBO</th>\n",
       "      <th>CEMEX</th>\n",
       "      <th>FEMSA</th>\n",
       "      <th>GAP</th>\n",
       "      <th>GFNORTE</th>\n",
       "      <th>GMEXICO</th>\n",
       "      <th>TLEVISA</th>\n",
       "      <th>WALMEX</th>\n",
       "    </tr>\n",
       "  </thead>\n",
       "  <tbody>\n",
       "    <tr>\n",
       "      <th>99995</th>\n",
       "      <td>0.196007</td>\n",
       "      <td>0.206530</td>\n",
       "      <td>0.944357</td>\n",
       "      <td>0.090931</td>\n",
       "      <td>0.103107</td>\n",
       "      <td>0.019968</td>\n",
       "      <td>0.043218</td>\n",
       "      <td>0.091057</td>\n",
       "      <td>0.148011</td>\n",
       "      <td>0.198134</td>\n",
       "      <td>0.071538</td>\n",
       "      <td>0.168910</td>\n",
       "      <td>0.065127</td>\n",
       "    </tr>\n",
       "    <tr>\n",
       "      <th>99996</th>\n",
       "      <td>0.177677</td>\n",
       "      <td>0.201683</td>\n",
       "      <td>0.876167</td>\n",
       "      <td>0.011766</td>\n",
       "      <td>0.060764</td>\n",
       "      <td>0.079696</td>\n",
       "      <td>0.148798</td>\n",
       "      <td>0.084251</td>\n",
       "      <td>0.033777</td>\n",
       "      <td>0.203793</td>\n",
       "      <td>0.121154</td>\n",
       "      <td>0.084184</td>\n",
       "      <td>0.171817</td>\n",
       "    </tr>\n",
       "    <tr>\n",
       "      <th>99997</th>\n",
       "      <td>0.214694</td>\n",
       "      <td>0.182085</td>\n",
       "      <td>1.173768</td>\n",
       "      <td>0.179647</td>\n",
       "      <td>0.136595</td>\n",
       "      <td>0.147411</td>\n",
       "      <td>0.065052</td>\n",
       "      <td>0.041519</td>\n",
       "      <td>0.053943</td>\n",
       "      <td>0.026515</td>\n",
       "      <td>0.159969</td>\n",
       "      <td>0.084765</td>\n",
       "      <td>0.104583</td>\n",
       "    </tr>\n",
       "    <tr>\n",
       "      <th>99998</th>\n",
       "      <td>0.200004</td>\n",
       "      <td>0.191412</td>\n",
       "      <td>1.039824</td>\n",
       "      <td>0.096661</td>\n",
       "      <td>0.029729</td>\n",
       "      <td>0.150272</td>\n",
       "      <td>0.123752</td>\n",
       "      <td>0.063038</td>\n",
       "      <td>0.136335</td>\n",
       "      <td>0.136661</td>\n",
       "      <td>0.029913</td>\n",
       "      <td>0.084027</td>\n",
       "      <td>0.149611</td>\n",
       "    </tr>\n",
       "    <tr>\n",
       "      <th>99999</th>\n",
       "      <td>0.195416</td>\n",
       "      <td>0.202068</td>\n",
       "      <td>0.962286</td>\n",
       "      <td>0.009745</td>\n",
       "      <td>0.110667</td>\n",
       "      <td>0.116032</td>\n",
       "      <td>0.093482</td>\n",
       "      <td>0.045040</td>\n",
       "      <td>0.024629</td>\n",
       "      <td>0.125912</td>\n",
       "      <td>0.162085</td>\n",
       "      <td>0.173416</td>\n",
       "      <td>0.138992</td>\n",
       "    </tr>\n",
       "  </tbody>\n",
       "</table>\n",
       "</div>"
      ],
      "text/plain": [
       "       Rendimiento  Volatilidad  Prima de Riesgo       AMX      ASUR  \\\n",
       "99995     0.196007     0.206530         0.944357  0.090931  0.103107   \n",
       "99996     0.177677     0.201683         0.876167  0.011766  0.060764   \n",
       "99997     0.214694     0.182085         1.173768  0.179647  0.136595   \n",
       "99998     0.200004     0.191412         1.039824  0.096661  0.029729   \n",
       "99999     0.195416     0.202068         0.962286  0.009745  0.110667   \n",
       "\n",
       "          BIMBO     CEMEX     FEMSA       GAP   GFNORTE   GMEXICO   TLEVISA  \\\n",
       "99995  0.019968  0.043218  0.091057  0.148011  0.198134  0.071538  0.168910   \n",
       "99996  0.079696  0.148798  0.084251  0.033777  0.203793  0.121154  0.084184   \n",
       "99997  0.147411  0.065052  0.041519  0.053943  0.026515  0.159969  0.084765   \n",
       "99998  0.150272  0.123752  0.063038  0.136335  0.136661  0.029913  0.084027   \n",
       "99999  0.116032  0.093482  0.045040  0.024629  0.125912  0.162085  0.173416   \n",
       "\n",
       "         WALMEX  \n",
       "99995  0.065127  \n",
       "99996  0.171817  \n",
       "99997  0.104583  \n",
       "99998  0.149611  \n",
       "99999  0.138992  "
      ]
     },
     "execution_count": 104,
     "metadata": {},
     "output_type": "execute_result"
    }
   ],
   "source": [
    "ppr.tail()"
   ]
  },
  {
   "cell_type": "code",
   "execution_count": 105,
   "metadata": {
    "id": "zNainV0r2VX9"
   },
   "outputs": [],
   "source": [
    "MOb=ppr.sort_values('Prima de Riesgo',ascending=False)"
   ]
  },
  {
   "cell_type": "code",
   "execution_count": 106,
   "metadata": {
    "colab": {
     "base_uri": "https://localhost:8080/",
     "height": 206
    },
    "id": "dmduqhCSCIYA",
    "outputId": "26757f11-ed32-4c21-c4c9-8fcbb8c93a22"
   },
   "outputs": [
    {
     "data": {
      "text/html": [
       "<div>\n",
       "<style scoped>\n",
       "    .dataframe tbody tr th:only-of-type {\n",
       "        vertical-align: middle;\n",
       "    }\n",
       "\n",
       "    .dataframe tbody tr th {\n",
       "        vertical-align: top;\n",
       "    }\n",
       "\n",
       "    .dataframe thead th {\n",
       "        text-align: right;\n",
       "    }\n",
       "</style>\n",
       "<table border=\"1\" class=\"dataframe\">\n",
       "  <thead>\n",
       "    <tr style=\"text-align: right;\">\n",
       "      <th></th>\n",
       "      <th>Rendimiento</th>\n",
       "      <th>Volatilidad</th>\n",
       "      <th>Prima de Riesgo</th>\n",
       "      <th>AMX</th>\n",
       "      <th>ASUR</th>\n",
       "      <th>BIMBO</th>\n",
       "      <th>CEMEX</th>\n",
       "      <th>FEMSA</th>\n",
       "      <th>GAP</th>\n",
       "      <th>GFNORTE</th>\n",
       "      <th>GMEXICO</th>\n",
       "      <th>TLEVISA</th>\n",
       "      <th>WALMEX</th>\n",
       "    </tr>\n",
       "  </thead>\n",
       "  <tbody>\n",
       "    <tr>\n",
       "      <th>19982</th>\n",
       "      <td>0.253594</td>\n",
       "      <td>0.188527</td>\n",
       "      <td>1.339995</td>\n",
       "      <td>0.230191</td>\n",
       "      <td>0.037564</td>\n",
       "      <td>0.202558</td>\n",
       "      <td>0.001287</td>\n",
       "      <td>0.001736</td>\n",
       "      <td>0.238062</td>\n",
       "      <td>0.124886</td>\n",
       "      <td>0.047036</td>\n",
       "      <td>0.013281</td>\n",
       "      <td>0.103400</td>\n",
       "    </tr>\n",
       "    <tr>\n",
       "      <th>98147</th>\n",
       "      <td>0.253352</td>\n",
       "      <td>0.189184</td>\n",
       "      <td>1.334064</td>\n",
       "      <td>0.179191</td>\n",
       "      <td>0.164414</td>\n",
       "      <td>0.173188</td>\n",
       "      <td>0.003967</td>\n",
       "      <td>0.016160</td>\n",
       "      <td>0.175078</td>\n",
       "      <td>0.065292</td>\n",
       "      <td>0.136271</td>\n",
       "      <td>0.028863</td>\n",
       "      <td>0.057575</td>\n",
       "    </tr>\n",
       "    <tr>\n",
       "      <th>94587</th>\n",
       "      <td>0.270907</td>\n",
       "      <td>0.203726</td>\n",
       "      <td>1.325006</td>\n",
       "      <td>0.111712</td>\n",
       "      <td>0.190198</td>\n",
       "      <td>0.227334</td>\n",
       "      <td>0.043322</td>\n",
       "      <td>0.002936</td>\n",
       "      <td>0.176305</td>\n",
       "      <td>0.041057</td>\n",
       "      <td>0.198669</td>\n",
       "      <td>0.002885</td>\n",
       "      <td>0.005581</td>\n",
       "    </tr>\n",
       "    <tr>\n",
       "      <th>81058</th>\n",
       "      <td>0.244658</td>\n",
       "      <td>0.183976</td>\n",
       "      <td>1.324568</td>\n",
       "      <td>0.177978</td>\n",
       "      <td>0.096367</td>\n",
       "      <td>0.199616</td>\n",
       "      <td>0.040168</td>\n",
       "      <td>0.025100</td>\n",
       "      <td>0.203503</td>\n",
       "      <td>0.024740</td>\n",
       "      <td>0.098404</td>\n",
       "      <td>0.010592</td>\n",
       "      <td>0.123531</td>\n",
       "    </tr>\n",
       "    <tr>\n",
       "      <th>18518</th>\n",
       "      <td>0.262215</td>\n",
       "      <td>0.197632</td>\n",
       "      <td>1.321882</td>\n",
       "      <td>0.181531</td>\n",
       "      <td>0.175328</td>\n",
       "      <td>0.180870</td>\n",
       "      <td>0.058423</td>\n",
       "      <td>0.002852</td>\n",
       "      <td>0.203965</td>\n",
       "      <td>0.053948</td>\n",
       "      <td>0.128861</td>\n",
       "      <td>0.007166</td>\n",
       "      <td>0.007056</td>\n",
       "    </tr>\n",
       "  </tbody>\n",
       "</table>\n",
       "</div>"
      ],
      "text/plain": [
       "       Rendimiento  Volatilidad  Prima de Riesgo       AMX      ASUR  \\\n",
       "19982     0.253594     0.188527         1.339995  0.230191  0.037564   \n",
       "98147     0.253352     0.189184         1.334064  0.179191  0.164414   \n",
       "94587     0.270907     0.203726         1.325006  0.111712  0.190198   \n",
       "81058     0.244658     0.183976         1.324568  0.177978  0.096367   \n",
       "18518     0.262215     0.197632         1.321882  0.181531  0.175328   \n",
       "\n",
       "          BIMBO     CEMEX     FEMSA       GAP   GFNORTE   GMEXICO   TLEVISA  \\\n",
       "19982  0.202558  0.001287  0.001736  0.238062  0.124886  0.047036  0.013281   \n",
       "98147  0.173188  0.003967  0.016160  0.175078  0.065292  0.136271  0.028863   \n",
       "94587  0.227334  0.043322  0.002936  0.176305  0.041057  0.198669  0.002885   \n",
       "81058  0.199616  0.040168  0.025100  0.203503  0.024740  0.098404  0.010592   \n",
       "18518  0.180870  0.058423  0.002852  0.203965  0.053948  0.128861  0.007166   \n",
       "\n",
       "         WALMEX  \n",
       "19982  0.103400  \n",
       "98147  0.057575  \n",
       "94587  0.005581  \n",
       "81058  0.123531  \n",
       "18518  0.007056  "
      ]
     },
     "execution_count": 106,
     "metadata": {},
     "output_type": "execute_result"
    }
   ],
   "source": [
    "MOb.head().to_csv(\"Portafolio Optimo.csv\")\n",
    "MOb.head()"
   ]
  },
  {
   "cell_type": "markdown",
   "metadata": {
    "id": "jg9iBuXCbNwf"
   },
   "source": [
    "Un ejemplo sería que si nosotros queremos Invertir 30 mil pesos, tendríamos que dividir nuestro dinero asi:"
   ]
  },
  {
   "cell_type": "code",
   "execution_count": 107,
   "metadata": {
    "colab": {
     "base_uri": "https://localhost:8080/",
     "height": 206
    },
    "id": "_PDITmNNbaiW",
    "outputId": "c2395a0e-c4b6-4528-a2d6-5412e94d052f"
   },
   "outputs": [
    {
     "data": {
      "text/html": [
       "<div>\n",
       "<style scoped>\n",
       "    .dataframe tbody tr th:only-of-type {\n",
       "        vertical-align: middle;\n",
       "    }\n",
       "\n",
       "    .dataframe tbody tr th {\n",
       "        vertical-align: top;\n",
       "    }\n",
       "\n",
       "    .dataframe thead th {\n",
       "        text-align: right;\n",
       "    }\n",
       "</style>\n",
       "<table border=\"1\" class=\"dataframe\">\n",
       "  <thead>\n",
       "    <tr style=\"text-align: right;\">\n",
       "      <th></th>\n",
       "      <th>AMX</th>\n",
       "      <th>ASUR</th>\n",
       "      <th>BIMBO</th>\n",
       "      <th>CEMEX</th>\n",
       "      <th>FEMSA</th>\n",
       "      <th>GAP</th>\n",
       "      <th>GFNORTE</th>\n",
       "      <th>GMEXICO</th>\n",
       "      <th>TLEVISA</th>\n",
       "      <th>WALMEX</th>\n",
       "    </tr>\n",
       "  </thead>\n",
       "  <tbody>\n",
       "    <tr>\n",
       "      <th>19982</th>\n",
       "      <td>6905.744908</td>\n",
       "      <td>1126.909871</td>\n",
       "      <td>6076.753039</td>\n",
       "      <td>38.609639</td>\n",
       "      <td>52.071662</td>\n",
       "      <td>7141.850499</td>\n",
       "      <td>3746.580519</td>\n",
       "      <td>1411.065455</td>\n",
       "      <td>398.422626</td>\n",
       "      <td>3101.991781</td>\n",
       "    </tr>\n",
       "    <tr>\n",
       "      <th>98147</th>\n",
       "      <td>5375.744961</td>\n",
       "      <td>4932.434317</td>\n",
       "      <td>5195.644747</td>\n",
       "      <td>119.002984</td>\n",
       "      <td>484.813243</td>\n",
       "      <td>5252.325931</td>\n",
       "      <td>1958.766801</td>\n",
       "      <td>4088.119454</td>\n",
       "      <td>865.899515</td>\n",
       "      <td>1727.248046</td>\n",
       "    </tr>\n",
       "    <tr>\n",
       "      <th>94587</th>\n",
       "      <td>3351.361246</td>\n",
       "      <td>5705.940625</td>\n",
       "      <td>6820.031199</td>\n",
       "      <td>1299.667571</td>\n",
       "      <td>88.077895</td>\n",
       "      <td>5289.158323</td>\n",
       "      <td>1231.714302</td>\n",
       "      <td>5960.058493</td>\n",
       "      <td>86.564687</td>\n",
       "      <td>167.425659</td>\n",
       "    </tr>\n",
       "    <tr>\n",
       "      <th>81058</th>\n",
       "      <td>5339.352625</td>\n",
       "      <td>2891.015732</td>\n",
       "      <td>5988.474194</td>\n",
       "      <td>1205.054684</td>\n",
       "      <td>753.003495</td>\n",
       "      <td>6105.094853</td>\n",
       "      <td>742.188618</td>\n",
       "      <td>2952.127441</td>\n",
       "      <td>317.767305</td>\n",
       "      <td>3705.921054</td>\n",
       "    </tr>\n",
       "    <tr>\n",
       "      <th>18518</th>\n",
       "      <td>5445.938435</td>\n",
       "      <td>5259.846470</td>\n",
       "      <td>5426.103856</td>\n",
       "      <td>1752.698434</td>\n",
       "      <td>85.567539</td>\n",
       "      <td>6118.938951</td>\n",
       "      <td>1618.447423</td>\n",
       "      <td>3865.816130</td>\n",
       "      <td>214.972128</td>\n",
       "      <td>211.670633</td>\n",
       "    </tr>\n",
       "  </tbody>\n",
       "</table>\n",
       "</div>"
      ],
      "text/plain": [
       "               AMX         ASUR        BIMBO        CEMEX       FEMSA  \\\n",
       "19982  6905.744908  1126.909871  6076.753039    38.609639   52.071662   \n",
       "98147  5375.744961  4932.434317  5195.644747   119.002984  484.813243   \n",
       "94587  3351.361246  5705.940625  6820.031199  1299.667571   88.077895   \n",
       "81058  5339.352625  2891.015732  5988.474194  1205.054684  753.003495   \n",
       "18518  5445.938435  5259.846470  5426.103856  1752.698434   85.567539   \n",
       "\n",
       "               GAP      GFNORTE      GMEXICO     TLEVISA       WALMEX  \n",
       "19982  7141.850499  3746.580519  1411.065455  398.422626  3101.991781  \n",
       "98147  5252.325931  1958.766801  4088.119454  865.899515  1727.248046  \n",
       "94587  5289.158323  1231.714302  5960.058493   86.564687   167.425659  \n",
       "81058  6105.094853   742.188618  2952.127441  317.767305  3705.921054  \n",
       "18518  6118.938951  1618.447423  3865.816130  214.972128   211.670633  "
      ]
     },
     "execution_count": 107,
     "metadata": {},
     "output_type": "execute_result"
    }
   ],
   "source": [
    "inv=30000\n",
    "AMX=inv*MOb['AMX']\n",
    "ASUR=inv*MOb['ASUR']\n",
    "BIMBO=inv*MOb['BIMBO']\n",
    "CEMEX=inv*MOb['CEMEX']\n",
    "FEMSA=inv*MOb['FEMSA']\n",
    "GAP=inv*MOb['GAP']\n",
    "GFNORTE=inv*MOb['GFNORTE']\n",
    "GMEXICO=inv*MOb['GMEXICO']\n",
    "TLEVISA=inv*MOb['TLEVISA']\n",
    "WALMEX=inv*MOb['WALMEX']\n",
    "Port=pd.DataFrame({'AMX': AMX,'ASUR': ASUR, 'BIMBO': BIMBO, 'CEMEX': CEMEX, 'FEMSA': FEMSA, 'GAP': GAP, \"GFNORTE\": GFNORTE,\n",
    "                  \"GMEXICO\": GMEXICO, 'TLEVISA': TLEVISA, 'WALMEX': WALMEX})\n",
    "Port.head().to_csv(\"Portafolio Optimo Inv.csv\")\n",
    "Port.head()"
   ]
  },
  {
   "cell_type": "markdown",
   "metadata": {
    "id": "GPUXYMrmcqUE"
   },
   "source": [
    "En cantidad de acciones seria:"
   ]
  },
  {
   "cell_type": "code",
   "execution_count": 108,
   "metadata": {},
   "outputs": [
    {
     "data": {
      "text/plain": [
       "68.55999755859375"
      ]
     },
     "execution_count": 108,
     "metadata": {},
     "output_type": "execute_result"
    }
   ],
   "source": [
    "dAMX=yf.Ticker(\"AMXL.MX\").history(period=\"1d\")\n",
    "dASUR=yf.Ticker(\"ASURB.MX\").history(period=\"1d\")\n",
    "dBIMBO=yf.Ticker(\"BIMBOA.MX\").history(period=\"1d\")\n",
    "dCEMEX=yf.Ticker(\"CEMEXCPO.MX\").history(period=\"1d\")\n",
    "dFEMSA=yf.Ticker(\"FEMSAUBD.MX\").history(period=\"1d\")\n",
    "dGAP=yf.Ticker(\"GAPB.MX\").history(period=\"1d\")\n",
    "dGFNORTE=yf.Ticker(\"GFNORTEO.MX\").history(period=\"1d\")\n",
    "dGMEXICO=yf.Ticker(\"GMEXICOB.MX\").history(period=\"1d\")\n",
    "dTLEVISA=yf.Ticker(\"TLEVISACPO.MX\").history(period=\"1d\")\n",
    "dWALMEX=yf.Ticker(\"WALMEX.MX\").history(period=\"1d\")\n",
    "dWALMEX[\"Close\"][0]"
   ]
  },
  {
   "cell_type": "code",
   "execution_count": 109,
   "metadata": {
    "colab": {
     "base_uri": "https://localhost:8080/",
     "height": 206
    },
    "id": "HWgkxfaZcjPK",
    "outputId": "4f999177-d8c8-4390-e000-deaa9d6d0dda"
   },
   "outputs": [
    {
     "data": {
      "text/html": [
       "<div>\n",
       "<style scoped>\n",
       "    .dataframe tbody tr th:only-of-type {\n",
       "        vertical-align: middle;\n",
       "    }\n",
       "\n",
       "    .dataframe tbody tr th {\n",
       "        vertical-align: top;\n",
       "    }\n",
       "\n",
       "    .dataframe thead th {\n",
       "        text-align: right;\n",
       "    }\n",
       "</style>\n",
       "<table border=\"1\" class=\"dataframe\">\n",
       "  <thead>\n",
       "    <tr style=\"text-align: right;\">\n",
       "      <th></th>\n",
       "      <th>AMX</th>\n",
       "      <th>ASUR</th>\n",
       "      <th>BIMBO</th>\n",
       "      <th>CEMEX</th>\n",
       "      <th>FEMSA</th>\n",
       "      <th>GAP</th>\n",
       "      <th>GFNORTE</th>\n",
       "      <th>GMEXICO</th>\n",
       "      <th>TLEVISA</th>\n",
       "      <th>WALMEX</th>\n",
       "    </tr>\n",
       "  </thead>\n",
       "  <tbody>\n",
       "    <tr>\n",
       "      <th>19982</th>\n",
       "      <td>340.016991</td>\n",
       "      <td>2.852214</td>\n",
       "      <td>86.072991</td>\n",
       "      <td>4.784342</td>\n",
       "      <td>0.420407</td>\n",
       "      <td>24.407405</td>\n",
       "      <td>32.942763</td>\n",
       "      <td>16.634038</td>\n",
       "      <td>12.128543</td>\n",
       "      <td>45.244923</td>\n",
       "    </tr>\n",
       "    <tr>\n",
       "      <th>98147</th>\n",
       "      <td>264.684643</td>\n",
       "      <td>12.484015</td>\n",
       "      <td>73.592703</td>\n",
       "      <td>14.746343</td>\n",
       "      <td>3.914203</td>\n",
       "      <td>17.949920</td>\n",
       "      <td>17.222956</td>\n",
       "      <td>48.191906</td>\n",
       "      <td>26.359195</td>\n",
       "      <td>25.193234</td>\n",
       "    </tr>\n",
       "    <tr>\n",
       "      <th>94587</th>\n",
       "      <td>165.010405</td>\n",
       "      <td>14.441763</td>\n",
       "      <td>96.601011</td>\n",
       "      <td>161.049271</td>\n",
       "      <td>0.711108</td>\n",
       "      <td>18.075796</td>\n",
       "      <td>10.830161</td>\n",
       "      <td>70.258851</td>\n",
       "      <td>2.635150</td>\n",
       "      <td>2.442031</td>\n",
       "    </tr>\n",
       "    <tr>\n",
       "      <th>81058</th>\n",
       "      <td>262.892800</td>\n",
       "      <td>7.317175</td>\n",
       "      <td>84.822582</td>\n",
       "      <td>149.325245</td>\n",
       "      <td>6.079473</td>\n",
       "      <td>20.864274</td>\n",
       "      <td>6.525882</td>\n",
       "      <td>34.800511</td>\n",
       "      <td>9.673282</td>\n",
       "      <td>54.053693</td>\n",
       "    </tr>\n",
       "    <tr>\n",
       "      <th>18518</th>\n",
       "      <td>268.140747</td>\n",
       "      <td>13.312697</td>\n",
       "      <td>76.856997</td>\n",
       "      <td>217.186927</td>\n",
       "      <td>0.690841</td>\n",
       "      <td>20.911586</td>\n",
       "      <td>14.230611</td>\n",
       "      <td>45.571331</td>\n",
       "      <td>6.544053</td>\n",
       "      <td>3.087378</td>\n",
       "    </tr>\n",
       "  </tbody>\n",
       "</table>\n",
       "</div>"
      ],
      "text/plain": [
       "              AMX       ASUR      BIMBO       CEMEX     FEMSA        GAP  \\\n",
       "19982  340.016991   2.852214  86.072991    4.784342  0.420407  24.407405   \n",
       "98147  264.684643  12.484015  73.592703   14.746343  3.914203  17.949920   \n",
       "94587  165.010405  14.441763  96.601011  161.049271  0.711108  18.075796   \n",
       "81058  262.892800   7.317175  84.822582  149.325245  6.079473  20.864274   \n",
       "18518  268.140747  13.312697  76.856997  217.186927  0.690841  20.911586   \n",
       "\n",
       "         GFNORTE    GMEXICO    TLEVISA     WALMEX  \n",
       "19982  32.942763  16.634038  12.128543  45.244923  \n",
       "98147  17.222956  48.191906  26.359195  25.193234  \n",
       "94587  10.830161  70.258851   2.635150   2.442031  \n",
       "81058   6.525882  34.800511   9.673282  54.053693  \n",
       "18518  14.230611  45.571331   6.544053   3.087378  "
      ]
     },
     "execution_count": 109,
     "metadata": {},
     "output_type": "execute_result"
    }
   ],
   "source": [
    "\n",
    "\n",
    "cAMX=inv*MOb['AMX']/dAMX[\"Close\"][0]\n",
    "cASUR=inv*MOb['ASUR']/dASUR[\"Close\"][0]\n",
    "cBIMBO=inv*MOb['BIMBO']/dBIMBO[\"Close\"][0]\n",
    "cCEMEX=inv*MOb['CEMEX']/dCEMEX[\"Close\"][0]\n",
    "cFEMSA=inv*MOb['FEMSA']/dFEMSA[\"Close\"][0]\n",
    "cGAP=inv*MOb['GAP']/dGAP[\"Close\"][0]\n",
    "cGFNORTE=inv*MOb['GFNORTE']/dGFNORTE[\"Close\"][0]\n",
    "cGMEXICO=inv*MOb['GMEXICO']/dGMEXICO[\"Close\"][0]\n",
    "cTLEVISA=inv*MOb['TLEVISA']/dTLEVISA[\"Close\"][0]\n",
    "cWALMEX=inv*MOb['WALMEX']/dWALMEX[\"Close\"][0]\n",
    "PortA=pd.DataFrame({'AMX': cAMX,'ASUR': cASUR, 'BIMBO': cBIMBO, 'CEMEX': cCEMEX, 'FEMSA': cFEMSA, 'GAP': cGAP, \"GFNORTE\": cGFNORTE,\n",
    "                  \"GMEXICO\": cGMEXICO, 'TLEVISA': cTLEVISA, 'WALMEX': cWALMEX})\n",
    "PortA.head().to_csv(\"Portafolio Optimo Inv Acciones.csv\")\n",
    "PortA.head()"
   ]
  },
  {
   "cell_type": "markdown",
   "metadata": {
    "id": "-sEok8S56BWf"
   },
   "source": [
    "# CAPM"
   ]
  },
  {
   "cell_type": "markdown",
   "metadata": {
    "id": "XljmQXCC6GRK"
   },
   "source": [
    "Definimos nuestras betas para cada empresa"
   ]
  },
  {
   "cell_type": "code",
   "execution_count": 114,
   "metadata": {
    "id": "bMS6HPPL6Av2"
   },
   "outputs": [],
   "source": [
    "b_AMX=fAMX[\"beta\"]\n",
    "b_ASUR=fASUR[\"beta\"]\n",
    "b_BIMBO=fBIMBO[\"beta\"]\n",
    "b_CEMEX=fCEMEX[\"beta\"]\n",
    "b_FEMSA=fFEMSA[\"beta\"]\n",
    "b_GAP=fGAP[\"beta\"]\n",
    "b_GFNORTE=fGFNORTE[\"beta\"]\n",
    "b_GMEXICO=fGMEXICO[\"beta\"]\n",
    "b_TLEVISA=fTLEVISA[\"beta\"]\n",
    "b_WALMEX=fWALMEX[\"beta\"]\n",
    "\n"
   ]
  },
  {
   "cell_type": "code",
   "execution_count": 115,
   "metadata": {
    "colab": {
     "base_uri": "https://localhost:8080/"
    },
    "id": "dCpRiPkPBKaR",
    "outputId": "72a89468-35f8-4b06-a671-3d78fc6e510c"
   },
   "outputs": [
    {
     "data": {
      "text/plain": [
       "AMX        0.196767\n",
       "ASUR       0.256954\n",
       "BIMBO      0.313530\n",
       "CEMEX      0.117578\n",
       "FEMSA     -0.021488\n",
       "GAP        0.343931\n",
       "GFNORTE    0.209142\n",
       "GMEXICO    0.269070\n",
       "TLEVISA    0.134478\n",
       "WALMEX     0.121747\n",
       "dtype: float64"
      ]
     },
     "execution_count": 115,
     "metadata": {},
     "output_type": "execute_result"
    }
   ],
   "source": [
    "rend=log_rend.mean() * 250\n",
    "rend"
   ]
  },
  {
   "cell_type": "markdown",
   "metadata": {
    "id": "Gq8o3xWGCFHR"
   },
   "source": [
    "![imagen_2022-05-13_194654895.png](data:image/png;base64,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)"
   ]
  },
  {
   "cell_type": "markdown",
   "metadata": {
    "id": "2L_oGRxuJSuS"
   },
   "source": [
    "Como BenchMark Usaremos: el S&P/BMV IPC "
   ]
  },
  {
   "cell_type": "code",
   "execution_count": 116,
   "metadata": {
    "id": "YSTUC2iCKkTk"
   },
   "outputs": [],
   "source": [
    "\trf=0.0871"
   ]
  },
  {
   "cell_type": "code",
   "execution_count": 117,
   "metadata": {
    "colab": {
     "base_uri": "https://localhost:8080/",
     "height": 238
    },
    "id": "2r_GwskhJWum",
    "outputId": "d1d111bf-1ca4-44ce-f2c5-9ddbfd6eab93"
   },
   "outputs": [
    {
     "data": {
      "text/html": [
       "<div>\n",
       "<style scoped>\n",
       "    .dataframe tbody tr th:only-of-type {\n",
       "        vertical-align: middle;\n",
       "    }\n",
       "\n",
       "    .dataframe tbody tr th {\n",
       "        vertical-align: top;\n",
       "    }\n",
       "\n",
       "    .dataframe thead th {\n",
       "        text-align: right;\n",
       "    }\n",
       "</style>\n",
       "<table border=\"1\" class=\"dataframe\">\n",
       "  <thead>\n",
       "    <tr style=\"text-align: right;\">\n",
       "      <th></th>\n",
       "      <th>IPC</th>\n",
       "    </tr>\n",
       "    <tr>\n",
       "      <th>Date</th>\n",
       "      <th></th>\n",
       "    </tr>\n",
       "  </thead>\n",
       "  <tbody>\n",
       "    <tr>\n",
       "      <th>2020-07-08</th>\n",
       "      <td>37483.878906</td>\n",
       "    </tr>\n",
       "    <tr>\n",
       "      <th>2020-07-09</th>\n",
       "      <td>36795.949219</td>\n",
       "    </tr>\n",
       "    <tr>\n",
       "      <th>2020-07-10</th>\n",
       "      <td>36465.460938</td>\n",
       "    </tr>\n",
       "    <tr>\n",
       "      <th>2020-07-13</th>\n",
       "      <td>36389.390625</td>\n",
       "    </tr>\n",
       "    <tr>\n",
       "      <th>2020-07-14</th>\n",
       "      <td>36190.910156</td>\n",
       "    </tr>\n",
       "  </tbody>\n",
       "</table>\n",
       "</div>"
      ],
      "text/plain": [
       "                     IPC\n",
       "Date                    \n",
       "2020-07-08  37483.878906\n",
       "2020-07-09  36795.949219\n",
       "2020-07-10  36465.460938\n",
       "2020-07-13  36389.390625\n",
       "2020-07-14  36190.910156"
      ]
     },
     "execution_count": 117,
     "metadata": {},
     "output_type": "execute_result"
    }
   ],
   "source": [
    "IPC=yf.Ticker(\"^MXX\").history(period=\"2y\")\n",
    "pf_IPC = pd.DataFrame({\"IPC\":IPC[\"Close\"]})\n",
    "pf_IPC.head()"
   ]
  },
  {
   "cell_type": "code",
   "execution_count": 119,
   "metadata": {
    "colab": {
     "base_uri": "https://localhost:8080/"
    },
    "id": "yqhLeDJnWIlH",
    "outputId": "95b8f341-1486-4da3-b170-178e3020fc0b"
   },
   "outputs": [
    {
     "data": {
      "text/plain": [
       "0.030758642494586944"
      ]
     },
     "execution_count": 119,
     "metadata": {},
     "output_type": "execute_result"
    }
   ],
   "source": [
    "log_rend_ipc = np.log(pf_IPC['IPC'] / pf_IPC['IPC'].shift(1))\n",
    "riskpremium = (log_rend_ipc.mean()*250) - rf\n",
    "riskpremium"
   ]
  },
  {
   "cell_type": "code",
   "execution_count": 120,
   "metadata": {
    "colab": {
     "base_uri": "https://localhost:8080/"
    },
    "id": "yFbfhKTeKWfM",
    "outputId": "f76cdd67-fa72-47be-d0ca-c47e6ead1ca7"
   },
   "outputs": [
    {
     "data": {
      "text/plain": [
       "0.11785864249458694"
      ]
     },
     "execution_count": 120,
     "metadata": {},
     "output_type": "execute_result"
    }
   ],
   "source": [
    "log_rend_ipc.mean()*250"
   ]
  },
  {
   "cell_type": "code",
   "execution_count": 36,
   "metadata": {
    "colab": {
     "base_uri": "https://localhost:8080/",
     "height": 81
    },
    "id": "NuiEinTNFsii",
    "outputId": "722dd607-0ec7-4d8f-a19d-8c8cd13ffab0"
   },
   "outputs": [
    {
     "data": {
      "text/html": [
       "\n",
       "  <div id=\"df-6c8cf5a6-e09b-4fad-b9b3-ff1774a5c545\">\n",
       "    <div class=\"colab-df-container\">\n",
       "      <div>\n",
       "<style scoped>\n",
       "    .dataframe tbody tr th:only-of-type {\n",
       "        vertical-align: middle;\n",
       "    }\n",
       "\n",
       "    .dataframe tbody tr th {\n",
       "        vertical-align: top;\n",
       "    }\n",
       "\n",
       "    .dataframe thead th {\n",
       "        text-align: right;\n",
       "    }\n",
       "</style>\n",
       "<table border=\"1\" class=\"dataframe\">\n",
       "  <thead>\n",
       "    <tr style=\"text-align: right;\">\n",
       "      <th></th>\n",
       "      <th>KOF</th>\n",
       "      <th>ARCA</th>\n",
       "      <th>OMA</th>\n",
       "      <th>GRUMA</th>\n",
       "      <th>WALMEX</th>\n",
       "    </tr>\n",
       "  </thead>\n",
       "  <tbody>\n",
       "    <tr>\n",
       "      <th>1</th>\n",
       "      <td>0.112399</td>\n",
       "      <td>0.114345</td>\n",
       "      <td>0.156186</td>\n",
       "      <td>0.102182</td>\n",
       "      <td>0.113859</td>\n",
       "    </tr>\n",
       "  </tbody>\n",
       "</table>\n",
       "</div>\n",
       "      <button class=\"colab-df-convert\" onclick=\"convertToInteractive('df-6c8cf5a6-e09b-4fad-b9b3-ff1774a5c545')\"\n",
       "              title=\"Convert this dataframe to an interactive table.\"\n",
       "              style=\"display:none;\">\n",
       "        \n",
       "  <svg xmlns=\"http://www.w3.org/2000/svg\" height=\"24px\"viewBox=\"0 0 24 24\"\n",
       "       width=\"24px\">\n",
       "    <path d=\"M0 0h24v24H0V0z\" fill=\"none\"/>\n",
       "    <path d=\"M18.56 5.44l.94 2.06.94-2.06 2.06-.94-2.06-.94-.94-2.06-.94 2.06-2.06.94zm-11 1L8.5 8.5l.94-2.06 2.06-.94-2.06-.94L8.5 2.5l-.94 2.06-2.06.94zm10 10l.94 2.06.94-2.06 2.06-.94-2.06-.94-.94-2.06-.94 2.06-2.06.94z\"/><path d=\"M17.41 7.96l-1.37-1.37c-.4-.4-.92-.59-1.43-.59-.52 0-1.04.2-1.43.59L10.3 9.45l-7.72 7.72c-.78.78-.78 2.05 0 2.83L4 21.41c.39.39.9.59 1.41.59.51 0 1.02-.2 1.41-.59l7.78-7.78 2.81-2.81c.8-.78.8-2.07 0-2.86zM5.41 20L4 18.59l7.72-7.72 1.47 1.35L5.41 20z\"/>\n",
       "  </svg>\n",
       "      </button>\n",
       "      \n",
       "  <style>\n",
       "    .colab-df-container {\n",
       "      display:flex;\n",
       "      flex-wrap:wrap;\n",
       "      gap: 12px;\n",
       "    }\n",
       "\n",
       "    .colab-df-convert {\n",
       "      background-color: #E8F0FE;\n",
       "      border: none;\n",
       "      border-radius: 50%;\n",
       "      cursor: pointer;\n",
       "      display: none;\n",
       "      fill: #1967D2;\n",
       "      height: 32px;\n",
       "      padding: 0 0 0 0;\n",
       "      width: 32px;\n",
       "    }\n",
       "\n",
       "    .colab-df-convert:hover {\n",
       "      background-color: #E2EBFA;\n",
       "      box-shadow: 0px 1px 2px rgba(60, 64, 67, 0.3), 0px 1px 3px 1px rgba(60, 64, 67, 0.15);\n",
       "      fill: #174EA6;\n",
       "    }\n",
       "\n",
       "    [theme=dark] .colab-df-convert {\n",
       "      background-color: #3B4455;\n",
       "      fill: #D2E3FC;\n",
       "    }\n",
       "\n",
       "    [theme=dark] .colab-df-convert:hover {\n",
       "      background-color: #434B5C;\n",
       "      box-shadow: 0px 1px 3px 1px rgba(0, 0, 0, 0.15);\n",
       "      filter: drop-shadow(0px 1px 2px rgba(0, 0, 0, 0.3));\n",
       "      fill: #FFFFFF;\n",
       "    }\n",
       "  </style>\n",
       "\n",
       "      <script>\n",
       "        const buttonEl =\n",
       "          document.querySelector('#df-6c8cf5a6-e09b-4fad-b9b3-ff1774a5c545 button.colab-df-convert');\n",
       "        buttonEl.style.display =\n",
       "          google.colab.kernel.accessAllowed ? 'block' : 'none';\n",
       "\n",
       "        async function convertToInteractive(key) {\n",
       "          const element = document.querySelector('#df-6c8cf5a6-e09b-4fad-b9b3-ff1774a5c545');\n",
       "          const dataTable =\n",
       "            await google.colab.kernel.invokeFunction('convertToInteractive',\n",
       "                                                     [key], {});\n",
       "          if (!dataTable) return;\n",
       "\n",
       "          const docLinkHtml = 'Like what you see? Visit the ' +\n",
       "            '<a target=\"_blank\" href=https://colab.research.google.com/notebooks/data_table.ipynb>data table notebook</a>'\n",
       "            + ' to learn more about interactive tables.';\n",
       "          element.innerHTML = '';\n",
       "          dataTable['output_type'] = 'display_data';\n",
       "          await google.colab.output.renderOutput(dataTable, element);\n",
       "          const docLink = document.createElement('div');\n",
       "          docLink.innerHTML = docLinkHtml;\n",
       "          element.appendChild(docLink);\n",
       "        }\n",
       "      </script>\n",
       "    </div>\n",
       "  </div>\n",
       "  "
      ],
      "text/plain": [
       "        KOF      ARCA       OMA     GRUMA    WALMEX\n",
       "1  0.112399  0.114345  0.156186  0.102182  0.113859"
      ]
     },
     "execution_count": 36,
     "metadata": {},
     "output_type": "execute_result"
    }
   ],
   "source": [
    "\n",
    "\n",
    "\n",
    "\n",
    "\n",
    "b_GAP\n",
    "b_GFNORTE\n",
    "b_GMEXICO\n",
    "b_TLEVISA\n",
    "b_WALMEX\n",
    "R_AMX=rf+b_AMX*riskpremium\n",
    "R_ASUR=rf+b_ASUR*riskpremium\n",
    "R_BIMBO=rf+b_BIMBO*riskpremium\n",
    "R_CEMEX=rf+b_CEMEX*riskpremium\n",
    "R_FEM=rf+b_FEMSA*riskpremium\n",
    "R_KOF=rf+b_AMX*riskpremium\n",
    "R_Arca=rf+b_ASUR*riskpremium\n",
    "R_Oma=rf+b_BIMBO*riskpremium\n",
    "R_Gruma=rf+b_CEMEX*riskpremium\n",
    "R_Walmex=rf+b_walmex*riskpremium\n",
    "cpm=pd.DataFrame({'KOF': R_KOF,'ARCA': R_Arca, 'OMA': R_Oma, 'GRUMA': R_Gruma, 'WALMEX': R_Walmex},index=[1])\n",
    "cpm"
   ]
  },
  {
   "cell_type": "markdown",
   "metadata": {
    "id": "7SpzKu0_bAzl"
   },
   "source": [
    "# WACC"
   ]
  },
  {
   "cell_type": "markdown",
   "metadata": {
    "id": "7zeKFBAdvsJE"
   },
   "source": [
    "![imagen_2022-05-13_230611686.png](data:image/png;base64,iVBORw0KGgoAAAANSUhEUgAAAN4AAAAvCAIAAAADy+NcAAAJCUlEQVR4nO2cz1PbSBbHe7bmTP8FFk6Ro4RTcMNg4IjBIUcbe+BGHJvkRlwYH1kXhttMEcu5UWMsH7d2Y/m2VTORcpuqGUvHrdql9Q/o+R/wHl6iUYx/4h9SNPoUByy31d/uft39+nVL33U6HeLj4z7+5rQAH5/e+Kbp41J80/RxKb5p+rgU3zR9XIpvmj4uxTdNH5fyvdMCZggAvBdFVVEpXSCE8ILAGPvp5sZpXT0o5PP1mkQp5QWeMSO8Hj7N5SilTutylI53Oclk9vdi1sf9vdj52ZmDegbA7u+XFoMoD/+/urx0WpTDeHlCbzZkHC+RnWh0J7rroJ4BqIpKCEF5C5QSQnRNc1iT03jZNHd2o6qiFvJ5/BjdjYbXw85K6kdTbhBCUN57USSEHKdfOazJab7reHcPHQDeZLOqovKCcFv92c2u22roGSGEF3hd0wMcd1H8Oy8ITotyGC+PmpTS22o1fpDQNe1F7DkAOK2oN6qiAsBpLndbrR6n07qm6ZrutCjn8axpovdGCLkoFk9zOYOx61LJWUn9+KQq5Mts/vJVmhBSl6RZZNRsyFa1zJNKWTQYG/dX3jRNXdOwvRFs70fUznxAlyPAceSLSPvqbVromibLDUe87fhB4nX2ZNxZy5umqSqq3JCtuqjXJOLWhYXBmK5plsVclUpkNlIL+fO3uZz9CgDMx8mhlMYTCVzejU6PkPt1qVQpi4SQ8HqYMYMX+Iti0c1riIcYBosnEm+yWUIIQJvShZ9uboYOGPMveLMhV0SRECI3ZF3TGDM4LnBbrQ6VOm6IvtmQCSE4MBNCAKBek96L4mkuFz9ITK9AfdnZja6Gnh2n02PUZ89o58pyCIPVpmkuLQYPk8m5Blud4xsq+NJi8CST6XQ6Wqtlhev7cZhM2mP4pmnir6S72lTEKB+VoWn292Liu/Lo9+wxoRuMAQB2XEppgOMc8Z3nz1QKDgAvYs9noO4rUFg4vE4IwTDTYKmqovL8n9EoSukUg1Oqor4Xy0OT8QJvXwAMpYdpYiHXwuuEEAAwGHNtpHq6TKXgbYA5bOTYF/WY3QCpmCDABWahpJDPH6VSuqajzzCAQIAbKyjWwzRxZ4IXeIOxN9kspfSiWBxL7jfKN1RwuSHjuG4wVsifBzju9Osljh2ANiFkRk4z5vvjzc3ObnRwSkrpWKuu3qNmgOOOUj9sRzYDHPfvX3+x3Oe5AQBPg096/h2lUjPK1A0FHwWDMYOxAMdtRza3I5s70eg//vXPAZY306hZsyFTSkefXka3zu4VOk5q8UQifpBYDT0DAEfW5pTS//zvv6Onfxp88riMrFwmLHiXAOtjeD18W61OLtVeGyj1ZTod4AIvYs/b7Sm30VEq1c9z/e2P37vyUlVlbRy3pz1yxXabJk5q0d0opfTlq3SlLOppjReEQj6PPTUQ4NDR+fHmpl6TPqnKWngdY9qFfP5lOm0faZoNWZYbbQB04DBZpSziHewXuwAA3FZ+yMPGJl+33OPoV3BCiK5pdUkyGOMFYWGB9hRsCTAY245sDtAzLalr62FK6c5utFIWraBMpSxel0q8IADA21wOJ9lxDfdh9Q7gk6J2uT2VsqjrWhtAVdSLYrErODXGRNS1Yt/aiGxtRPB/0zRXlkMYQLEfKNzaiOBF0zSt8MrDU4bnZ2cnmYxpmp1OR7qrHSaTpmnu78WsNHhx9GjCTOlXcPxK/tDodDrKR2WoYKyH2ens0mZvF1S4tBjUWi3xXXllOYQXMU6ktVpdt5o8eITZKR8VrB9sXytCtLURsWdqlzQKf/qazYb8Ops1GGsD4PYJpfQ4nVYV9XU2u0Dpzm602ZABILobVRXVYKxek+KJg899RRQDHFevSehMVMpivSa9/RIHjh8k1sLrhXwezzHgT/Di6B10Rgwu+OfiiCLGlZwVXK9Jb7JZAGDMsKLo8YNEvSbh2T9cjPOCoOvawpfB8ssWqGHdBwAwfV2SJokMUrpAKf2kKjg8H6V+4AXemlXiiYQ9RGUYjBf4Me4+uhVLdzXsZ1sbERwg7X13ZTmEvRM7zWEy+XDwcHkQux9aq7WyHMICDk1sn0nmz/5eDHcNutQeJpNjhbsfAZoHu78foG3SkHs/4gcJSul1qfQyneYFoV6TLL9BbsiEEDzag6dm8Kuu5ViA4zCQMSOuS6XV0LOnwSc4PBNCdE1bDT3bjmw+emyolEVeEHC1/jp7MjQ9nsQbnEZV1Bex5xhtsIQdpVJPg08mOR4FALqmHafTt9WfAcAeRNyJ7o4V7n5c7mSgK2kwFh0WYPqKsXrG1eXl0mLQNE3sItgvTdPc2oigT4nOh3RXw3HUcitN07y6vJQ/NOz+DV4cS8BQDpNJy2XsdDrs/h593EffcGU5hD+/ury033lCsALt+3snmcwo231D76m1WuiAov9nYbXRjMBMrSJIdzV7ceQPjXEfzBrPNLVWC43JPm2dZDIryyHUIb4rLy0G8aNpmudnZ7hmOj87w3rRWq2TTKbr4hTZ2ojYH1U7TCYHTDFDYff3+3uxw2Ryfy92ksmMMqGPCFaUpU18V558RYKOFnbOh3dTPiqzfmpP/tDAujpMJu0dA61l3Lb22hOVVvSg0+mcn51NOA7NDrtpzsForEwdqZDH5eu159AN9nkZWK9JPC+4dvffMBghBHca61JtPk/H94zIujZfDx4lppTqmqbr2nxOIj4Oa4FYyOddu1PvLJ4aNa3N4ooouvMtHRZtgADHFfJ5/y0d/fDgqKkq6tsHx3AqZfFp8MkkUaTpAtA2GON5oevcJABsRzYx/uWUNpfgKdNkzCCEXBSLD6Nr6HS+zeVc4n0CQPwg8dDlwGcqeEHwZ3lPmSYh5LSP8X1+c8tYId9ZwnGBfsb3SVF3om7R6SCe8jXD6+F+g6Kuay4ZL5F+O0a6pgGA/+oO4r1Rsx/NhuyGoyRDURV1rJO5HuYvYZp4SAfbGwBmd05+cpqybJ3MrZTFoQ/ceBhPTeg9URUV3zuAJydURR3wGI2zFPJ5nNCPUinGjDbAb3/87rQox/Dym+J8vmn+EhO6z7eIb5o+LsU3TR+X4pumj0v5P3QgOA5DPV80AAAAAElFTkSuQmCC)"
   ]
  },
  {
   "cell_type": "markdown",
   "metadata": {
    "id": "SqdFI1C38SHd"
   },
   "source": [
    "Definimos nuestras Variables"
   ]
  },
  {
   "cell_type": "code",
   "execution_count": 37,
   "metadata": {
    "id": "7w7u7BWobAS9"
   },
   "outputs": [],
   "source": [
    "S_KOF=(645 + 83329)*1000000#BONOS\n",
    "Re_KOF=16806.66*1000000*110.97#ACCIONES\n",
    "Vl_kof=S_KOF+Re_KOF\n",
    "S_ARCA=(7953.21+43527\t)*1000000\n",
    "Re_ARCA=1764.28*1000000*129.98\n",
    "Vl_arca=S_ARCA+Re_ARCA\n",
    "S_OMA=390.11*1000000*139.880\n",
    "Re_OMA=(2729.33+4996.62\t)*1000000\n",
    "Vl_oma=S_OMA+Re_OMA\n",
    "S_GRUMA=(381.03*1000000)*244.76\n",
    "Re_GRUMA=(94.64+1166.42)*1000000\n",
    "Vl_gruma=S_GRUMA+Re_GRUMA\n",
    "S_WALMEX=17461.4*1000000*74.220\n",
    "Re_WALMEX=(3438.47)*1000000\n",
    "Vl_walmex=S_WALMEX+Re_WALMEX\n",
    "t_kof=6609/22852 #Tasa de Impuestos\n",
    "t_arca=6983.09/22072.4\n",
    "t_oma=279.11/1031.71\t\n",
    "t_gruma=39.58\t/100.77\n",
    "t_walmex=13157.58/57295.65\n",
    "bono_kof=0.0736 # Tasa de Bonos\n",
    "bono_arca=0.0675 \n",
    "bono_oma=0.0935\n",
    "bono_gruma=0.07 \n",
    "bono_walmex=0.05"
   ]
  },
  {
   "cell_type": "code",
   "execution_count": 38,
   "metadata": {
    "colab": {
     "base_uri": "https://localhost:8080/"
    },
    "id": "AhwMNJfiPqNn",
    "outputId": "c5ad5adc-e542-4262-c332-cff005d0617b"
   },
   "outputs": [
    {
     "data": {
      "text/plain": [
       "(83974000000,\n",
       " 1865035060200.0,\n",
       " 1949009060200.0,\n",
       " 51480210000.0,\n",
       " 229321114399.99997,\n",
       " 280801324400.0,\n",
       " 54568586800.0,\n",
       " 7725950000.0,\n",
       " 62294536800.0,\n",
       " 93260902800.0,\n",
       " 1261060000.0000002,\n",
       " 94521962800.0,\n",
       " 1295985108000.0,\n",
       " 3438470000.0,\n",
       " 1299423578000.0,\n",
       " 0.28920882198494663,\n",
       " 0.3163720302277958,\n",
       " 0.2705314477905613,\n",
       " 0.3927756276669644,\n",
       " 0.2296436116877983,\n",
       " 0.0736,\n",
       " 0.0675,\n",
       " 0.0935,\n",
       " 0.07,\n",
       " 0.05)"
      ]
     },
     "execution_count": 38,
     "metadata": {},
     "output_type": "execute_result"
    }
   ],
   "source": [
    "S_KOF, Re_KOF, Vl_kof, S_ARCA, Re_ARCA, Vl_arca, S_OMA, Re_OMA, Vl_oma, S_GRUMA, Re_GRUMA, Vl_gruma, S_WALMEX,Re_WALMEX, Vl_walmex, t_kof, t_arca, t_oma, t_gruma, t_walmex, bono_kof, bono_arca, bono_oma, bono_gruma, bono_walmex"
   ]
  },
  {
   "cell_type": "markdown",
   "metadata": {
    "id": "B-X5APLY-bDm"
   },
   "source": [
    "Calculamos el WACC de cada Empresa"
   ]
  },
  {
   "cell_type": "code",
   "execution_count": 39,
   "metadata": {
    "colab": {
     "base_uri": "https://localhost:8080/",
     "height": 81
    },
    "id": "yAn71F_F8W2R",
    "outputId": "f82d6479-eeed-4024-ec95-6145006f0253"
   },
   "outputs": [
    {
     "data": {
      "text/html": [
       "\n",
       "  <div id=\"df-5e39839f-a4a7-45bc-9fde-873ea4108487\">\n",
       "    <div class=\"colab-df-container\">\n",
       "      <div>\n",
       "<style scoped>\n",
       "    .dataframe tbody tr th:only-of-type {\n",
       "        vertical-align: middle;\n",
       "    }\n",
       "\n",
       "    .dataframe tbody tr th {\n",
       "        vertical-align: top;\n",
       "    }\n",
       "\n",
       "    .dataframe thead th {\n",
       "        text-align: right;\n",
       "    }\n",
       "</style>\n",
       "<table border=\"1\" class=\"dataframe\">\n",
       "  <thead>\n",
       "    <tr style=\"text-align: right;\">\n",
       "      <th></th>\n",
       "      <th>KOF</th>\n",
       "      <th>ARCA</th>\n",
       "      <th>OMA</th>\n",
       "      <th>GRUMA</th>\n",
       "      <th>WALMEX</th>\n",
       "    </tr>\n",
       "  </thead>\n",
       "  <tbody>\n",
       "    <tr>\n",
       "      <th>1</th>\n",
       "      <td>0.054903</td>\n",
       "      <td>0.058648</td>\n",
       "      <td>0.145274</td>\n",
       "      <td>0.101386</td>\n",
       "      <td>0.113659</td>\n",
       "    </tr>\n",
       "  </tbody>\n",
       "</table>\n",
       "</div>\n",
       "      <button class=\"colab-df-convert\" onclick=\"convertToInteractive('df-5e39839f-a4a7-45bc-9fde-873ea4108487')\"\n",
       "              title=\"Convert this dataframe to an interactive table.\"\n",
       "              style=\"display:none;\">\n",
       "        \n",
       "  <svg xmlns=\"http://www.w3.org/2000/svg\" height=\"24px\"viewBox=\"0 0 24 24\"\n",
       "       width=\"24px\">\n",
       "    <path d=\"M0 0h24v24H0V0z\" fill=\"none\"/>\n",
       "    <path d=\"M18.56 5.44l.94 2.06.94-2.06 2.06-.94-2.06-.94-.94-2.06-.94 2.06-2.06.94zm-11 1L8.5 8.5l.94-2.06 2.06-.94-2.06-.94L8.5 2.5l-.94 2.06-2.06.94zm10 10l.94 2.06.94-2.06 2.06-.94-2.06-.94-.94-2.06-.94 2.06-2.06.94z\"/><path d=\"M17.41 7.96l-1.37-1.37c-.4-.4-.92-.59-1.43-.59-.52 0-1.04.2-1.43.59L10.3 9.45l-7.72 7.72c-.78.78-.78 2.05 0 2.83L4 21.41c.39.39.9.59 1.41.59.51 0 1.02-.2 1.41-.59l7.78-7.78 2.81-2.81c.8-.78.8-2.07 0-2.86zM5.41 20L4 18.59l7.72-7.72 1.47 1.35L5.41 20z\"/>\n",
       "  </svg>\n",
       "      </button>\n",
       "      \n",
       "  <style>\n",
       "    .colab-df-container {\n",
       "      display:flex;\n",
       "      flex-wrap:wrap;\n",
       "      gap: 12px;\n",
       "    }\n",
       "\n",
       "    .colab-df-convert {\n",
       "      background-color: #E8F0FE;\n",
       "      border: none;\n",
       "      border-radius: 50%;\n",
       "      cursor: pointer;\n",
       "      display: none;\n",
       "      fill: #1967D2;\n",
       "      height: 32px;\n",
       "      padding: 0 0 0 0;\n",
       "      width: 32px;\n",
       "    }\n",
       "\n",
       "    .colab-df-convert:hover {\n",
       "      background-color: #E2EBFA;\n",
       "      box-shadow: 0px 1px 2px rgba(60, 64, 67, 0.3), 0px 1px 3px 1px rgba(60, 64, 67, 0.15);\n",
       "      fill: #174EA6;\n",
       "    }\n",
       "\n",
       "    [theme=dark] .colab-df-convert {\n",
       "      background-color: #3B4455;\n",
       "      fill: #D2E3FC;\n",
       "    }\n",
       "\n",
       "    [theme=dark] .colab-df-convert:hover {\n",
       "      background-color: #434B5C;\n",
       "      box-shadow: 0px 1px 3px 1px rgba(0, 0, 0, 0.15);\n",
       "      filter: drop-shadow(0px 1px 2px rgba(0, 0, 0, 0.3));\n",
       "      fill: #FFFFFF;\n",
       "    }\n",
       "  </style>\n",
       "\n",
       "      <script>\n",
       "        const buttonEl =\n",
       "          document.querySelector('#df-5e39839f-a4a7-45bc-9fde-873ea4108487 button.colab-df-convert');\n",
       "        buttonEl.style.display =\n",
       "          google.colab.kernel.accessAllowed ? 'block' : 'none';\n",
       "\n",
       "        async function convertToInteractive(key) {\n",
       "          const element = document.querySelector('#df-5e39839f-a4a7-45bc-9fde-873ea4108487');\n",
       "          const dataTable =\n",
       "            await google.colab.kernel.invokeFunction('convertToInteractive',\n",
       "                                                     [key], {});\n",
       "          if (!dataTable) return;\n",
       "\n",
       "          const docLinkHtml = 'Like what you see? Visit the ' +\n",
       "            '<a target=\"_blank\" href=https://colab.research.google.com/notebooks/data_table.ipynb>data table notebook</a>'\n",
       "            + ' to learn more about interactive tables.';\n",
       "          element.innerHTML = '';\n",
       "          dataTable['output_type'] = 'display_data';\n",
       "          await google.colab.output.renderOutput(dataTable, element);\n",
       "          const docLink = document.createElement('div');\n",
       "          docLink.innerHTML = docLinkHtml;\n",
       "          element.appendChild(docLink);\n",
       "        }\n",
       "      </script>\n",
       "    </div>\n",
       "  </div>\n",
       "  "
      ],
      "text/plain": [
       "        KOF      ARCA       OMA     GRUMA    WALMEX\n",
       "1  0.054903  0.058648  0.145274  0.101386  0.113659"
      ]
     },
     "execution_count": 39,
     "metadata": {},
     "output_type": "execute_result"
    }
   ],
   "source": [
    "W_kof=(S_KOF/Vl_kof)*R_KOF+(Re_KOF/Vl_kof)*bono_kof*(1-t_kof)\n",
    "W_arca=(S_ARCA/Vl_arca)*R_Arca+(Re_ARCA/Vl_arca)*bono_arca*(1-t_arca)\n",
    "W_oma=(S_OMA/Vl_oma)*R_Oma+(Re_OMA/Vl_oma)*bono_oma*(1-t_oma)\n",
    "W_gruma=(S_GRUMA/Vl_gruma)*R_Gruma+(Re_GRUMA/Vl_gruma)*bono_gruma*(1-t_gruma)\n",
    "W_walmex=(S_WALMEX/Vl_walmex)*R_Walmex+(Re_WALMEX/Vl_walmex)*bono_walmex*(1-t_walmex)\n",
    "WACC=pd.DataFrame({'KOF': W_kof,'ARCA': W_arca, 'OMA': W_oma, 'GRUMA': W_gruma, 'WALMEX': W_walmex},index=[1])\n",
    "WACC"
   ]
  }
 ],
 "metadata": {
  "colab": {
   "collapsed_sections": [],
   "name": "FINCO",
   "provenance": []
  },
  "kernelspec": {
   "display_name": "Python 3 (ipykernel)",
   "language": "python",
   "name": "python3"
  },
  "language_info": {
   "codemirror_mode": {
    "name": "ipython",
    "version": 3
   },
   "file_extension": ".py",
   "mimetype": "text/x-python",
   "name": "python",
   "nbconvert_exporter": "python",
   "pygments_lexer": "ipython3",
   "version": "3.10.5"
  }
 },
 "nbformat": 4,
 "nbformat_minor": 1
}
