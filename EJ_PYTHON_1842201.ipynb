{
  "nbformat": 4,
  "nbformat_minor": 0,
  "metadata": {
    "colab": {
      "name": "EJ_PYTHON_1842201.ipynb",
      "provenance": [],
      "authorship_tag": "ABX9TyORn4KB9o9CcOefo37oDk30",
      "include_colab_link": true
    },
    "kernelspec": {
      "name": "python3",
      "display_name": "Python 3"
    },
    "language_info": {
      "name": "python"
    }
  },
  "cells": [
    {
      "cell_type": "markdown",
      "metadata": {
        "id": "view-in-github",
        "colab_type": "text"
      },
      "source": [
        "<a href=\"https://colab.research.google.com/github/mayorga09/Mineria_de_Datos/blob/main/EJ_PYTHON_1842201.ipynb\" target=\"_parent\"><img src=\"https://colab.research.google.com/assets/colab-badge.svg\" alt=\"Open In Colab\"/></a>"
      ]
    },
    {
      "cell_type": "markdown",
      "metadata": {
        "id": "Zq23egtuwegM"
      },
      "source": [
        "Ejercicio 1"
      ]
    },
    {
      "cell_type": "code",
      "metadata": {
        "id": "AeMTcsWz63Ys"
      },
      "source": [
        "import math as m"
      ],
      "execution_count": 40,
      "outputs": []
    },
    {
      "cell_type": "code",
      "metadata": {
        "colab": {
          "base_uri": "https://localhost:8080/"
        },
        "id": "IIiEfngdwEp2",
        "outputId": "c57c69b2-8ca2-4271-e611-8b145272a31d"
      },
      "source": [
        "matricula=1842201\n",
        "nombre=\"Julio César Ramiro Mayorga\"\n",
        "print(matricula,nombre)"
      ],
      "execution_count": 3,
      "outputs": [
        {
          "output_type": "stream",
          "text": [
            "1842201 Julio César Ramiro Mayorga\n"
          ],
          "name": "stdout"
        }
      ]
    },
    {
      "cell_type": "markdown",
      "metadata": {
        "id": "q9a47bl8wj83"
      },
      "source": [
        "Ejercicio 2"
      ]
    },
    {
      "cell_type": "code",
      "metadata": {
        "colab": {
          "base_uri": "https://localhost:8080/"
        },
        "id": "-GD_2k_-wjdf",
        "outputId": "bf49c0b6-f837-431d-da66-a1c7d4973721"
      },
      "source": [
        "a1 = int(input(\"Introduce un número:\" ))\n",
        "b1 = int(input(\"Introduce otro número: \"))\n",
        "i=1\n",
        "while i==1:\n",
        "      r=int(input(\"Que operación quiere realizar 1:suma 2:resta 3: multiplicación 4:división 5:Potencia:_\"))\n",
        "      if r==1: \n",
        "         print(\"SUMA ->\",a1+b1)\n",
        "      else:\n",
        "         if r==2:\n",
        "            print(\"RESTA ->\",a1-b1)\n",
        "         else:\n",
        "           if r==3:\n",
        "              print(\"MULTIPLICACIÓN ->\",a1*b1)\n",
        "           else:\n",
        "              if r==4:\n",
        "                 print(\"DIVISIÓN ->\",a1/b1)\n",
        "              else:\n",
        "                  if r==5:\n",
        "                     print(\"POTENCIA ->\",a1**b1)\n",
        "                  else:\n",
        "                      print(\"Función no encontrada\")\n",
        "      i=int(input(\"¿Desea realizar otra operación? 1: SI 2: NO:_\"))                                              "
      ],
      "execution_count": 27,
      "outputs": [
        {
          "output_type": "stream",
          "text": [
            "Introduce un número:2\n",
            "Introduce otro número: 2\n",
            "Que operación quiere realizar 1:suma 2:resta 3: multiplicación 4:división 5:Potencia:_5\n",
            "POTENCIA -> 4\n",
            "¿Desea realizar otra operación? 1: SI 2: NO:_2\n"
          ],
          "name": "stdout"
        }
      ]
    },
    {
      "cell_type": "markdown",
      "metadata": {
        "id": "foSTKlmg18nv"
      },
      "source": [
        "Ejercicio 3\n"
      ]
    },
    {
      "cell_type": "code",
      "metadata": {
        "colab": {
          "base_uri": "https://localhost:8080/"
        },
        "id": "2PDQA3eq1_AK",
        "outputId": "4701143f-a1f6-4ee5-b689-bb3b4023895f"
      },
      "source": [
        "suma=0\n",
        "for i in range(1,11):\n",
        "    print(3*i)\n",
        "    suma=suma+3*i\n",
        "print(\"SUMA ->\",suma)   \n"
      ],
      "execution_count": 24,
      "outputs": [
        {
          "output_type": "stream",
          "text": [
            "3\n",
            "6\n",
            "9\n",
            "12\n",
            "15\n",
            "18\n",
            "21\n",
            "24\n",
            "27\n",
            "30\n",
            "SUMA -> 165\n"
          ],
          "name": "stdout"
        }
      ]
    },
    {
      "cell_type": "markdown",
      "metadata": {
        "id": "P6fzR3GI3k6s"
      },
      "source": [
        "Ejercicio 4\n"
      ]
    },
    {
      "cell_type": "markdown",
      "metadata": {
        "id": "L9Eu6MhB4zrt"
      },
      "source": [
        "Saber si un numero es par o impar \n"
      ]
    },
    {
      "cell_type": "code",
      "metadata": {
        "colab": {
          "base_uri": "https://localhost:8080/"
        },
        "id": "YvrYqbk03m7u",
        "outputId": "4361072f-d42b-43d7-d779-61db4ef4cfde"
      },
      "source": [
        "n = int(input(\"Introduce un número:\" ))\n",
        "if n %2==0:\n",
        "   print( \"El numero:\",n,\"Es Par\")\n",
        "else:\n",
        "   print(\"El numero:\",n,\"Es Impar\")  "
      ],
      "execution_count": 38,
      "outputs": [
        {
          "output_type": "stream",
          "text": [
            "Introduce un número:3\n",
            "El numero: 3 Es Impar\n"
          ],
          "name": "stdout"
        }
      ]
    },
    {
      "cell_type": "markdown",
      "metadata": {
        "id": "G1r-uojz45zJ"
      },
      "source": [
        "Saber si un numero es primo\n"
      ]
    },
    {
      "cell_type": "code",
      "metadata": {
        "colab": {
          "base_uri": "https://localhost:8080/"
        },
        "id": "zviAqvn54904",
        "outputId": "e7386191-e25e-4029-fe5d-3c70d9261c29"
      },
      "source": [
        "for i in range(2,n):\n",
        "    if n %i==0:\n",
        "      print(\"El numero\",n,\"No es PRIMO\")\n",
        "    else: \n",
        "      print(\"El número\",n,\"Es PRIMO\") "
      ],
      "execution_count": 39,
      "outputs": [
        {
          "output_type": "stream",
          "text": [
            "El número 3 Es PRIMO\n"
          ],
          "name": "stdout"
        }
      ]
    },
    {
      "cell_type": "markdown",
      "metadata": {
        "id": "lJ0Wukmy6s_Y"
      },
      "source": [
        "Ejercicio 5"
      ]
    },
    {
      "cell_type": "code",
      "metadata": {
        "colab": {
          "base_uri": "https://localhost:8080/"
        },
        "id": "89hfuvyt68kn",
        "outputId": "dad59694-921b-4455-8d4b-8f06f99667c1"
      },
      "source": [
        "a1 = int(input(\"Introduce un número:\" ))\n",
        "b1 = int(input(\"Introduce otro número: \"))\n",
        "i=1\n",
        "while i==1:\n",
        "      r=int(input(\"Que operación quiere realizar 1:suma 2:resta 3: multiplicación 4:división 5:Potencia 6:Exponencial 7:Seno 8:Coseno 9:Raiz\"))\n",
        "      if r==1: \n",
        "         print(\"SUMA ->\",a1+b1)\n",
        "      else:\n",
        "         if r==2:\n",
        "            print(\"RESTA ->\",a1-b1)\n",
        "         else:\n",
        "           if r==3:\n",
        "              print(\"MULTIPLICACIÓN ->\",a1*b1)\n",
        "           else:\n",
        "              if r==4:\n",
        "                 print(\"DIVISIÓN ->\",a1/b1)\n",
        "              else:\n",
        "                  if r==5:\n",
        "                     print(\"POTENCIA ->\",a1**b1)\n",
        "                  else:\n",
        "                     if r==6:\n",
        "                        print(\"Exponente a1\",m.exp(a1))\n",
        "                        print(\"Exponente b1\",m.exp(b1))\n",
        "                     else:\n",
        "                       if r==7:\n",
        "                          print(\"seno a1\",m.sin(a1))\n",
        "                          print(\"seno b1\",m.sin(b1))\n",
        "                       else:\n",
        "                        if r==8:\n",
        "                           print(\"coseno a1\",m.cos(a1)) \n",
        "                           print(\"coseno b1\",m.cos(b1)) \n",
        "                        else:\n",
        "                           if r==9:\n",
        "                              print(\"raiz a1\",m.sqrt(a1))\n",
        "                              print(\"raiz b1\",m.sqrt(b1)) \n",
        "                           else:\n",
        "                             print(\"Función no encontrada\")     \n",
        "\n",
        "      i=int(input(\"¿Desea realizar otra operación? 1: SI 2: NO:_\"))            "
      ],
      "execution_count": 44,
      "outputs": [
        {
          "output_type": "stream",
          "text": [
            "Introduce un número:2\n",
            "Introduce otro número: 2\n",
            "Que operación quiere realizar 1:suma 2:resta 3: multiplicación 4:división 5:Potencia 6:Exponencial 7:Seno 8:Coseno 9:Raiz6\n",
            "Exponente a1 7.38905609893065\n",
            "Exponente b1 7.38905609893065\n",
            "¿Desea realizar otra operación? 1: SI 2: NO:_2\n"
          ],
          "name": "stdout"
        }
      ]
    }
  ]
}